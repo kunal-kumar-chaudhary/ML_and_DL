{
  "nbformat": 4,
  "nbformat_minor": 0,
  "metadata": {
    "colab": {
      "name": "Word2Vec.ipynb",
      "provenance": [],
      "authorship_tag": "ABX9TyNfURE2raK+qzUTcSpnLyvg",
      "include_colab_link": true
    },
    "kernelspec": {
      "name": "python3",
      "display_name": "Python 3"
    },
    "language_info": {
      "name": "python"
    }
  },
  "cells": [
    {
      "cell_type": "markdown",
      "metadata": {
        "id": "view-in-github",
        "colab_type": "text"
      },
      "source": [
        "<a href=\"https://colab.research.google.com/github/1901010019/1901010019.github.io/blob/master/Word2Vec.ipynb\" target=\"_parent\"><img src=\"https://colab.research.google.com/assets/colab-badge.svg\" alt=\"Open In Colab\"/></a>"
      ]
    },
    {
      "cell_type": "code",
      "metadata": {
        "id": "3LA5Sn1tBnGZ"
      },
      "source": [
        "import nltk\n",
        "from gensim.models import Word2Vec\n",
        "from nltk.corpus import stopwords\n",
        "import re"
      ],
      "execution_count": 42,
      "outputs": []
    },
    {
      "cell_type": "code",
      "metadata": {
        "colab": {
          "base_uri": "https://localhost:8080/"
        },
        "id": "IcGqL48-psp4",
        "outputId": "ab1f13fd-bcb3-4f75-8c74-f0d476069d1d"
      },
      "source": [
        "nltk.download('punkt')"
      ],
      "execution_count": 29,
      "outputs": [
        {
          "output_type": "stream",
          "text": [
            "[nltk_data] Downloading package punkt to /root/nltk_data...\n",
            "[nltk_data]   Package punkt is already up-to-date!\n"
          ],
          "name": "stdout"
        },
        {
          "output_type": "execute_result",
          "data": {
            "text/plain": [
              "True"
            ]
          },
          "metadata": {
            "tags": []
          },
          "execution_count": 29
        }
      ]
    },
    {
      "cell_type": "code",
      "metadata": {
        "colab": {
          "base_uri": "https://localhost:8080/"
        },
        "id": "X4-tM0MkspPR",
        "outputId": "9f1e27cc-09d4-4614-e266-950ba2378ee9"
      },
      "source": [
        "nltk.download('stopwords')"
      ],
      "execution_count": 30,
      "outputs": [
        {
          "output_type": "stream",
          "text": [
            "[nltk_data] Downloading package stopwords to /root/nltk_data...\n",
            "[nltk_data]   Package stopwords is already up-to-date!\n"
          ],
          "name": "stdout"
        },
        {
          "output_type": "execute_result",
          "data": {
            "text/plain": [
              "True"
            ]
          },
          "metadata": {
            "tags": []
          },
          "execution_count": 30
        }
      ]
    },
    {
      "cell_type": "code",
      "metadata": {
        "id": "TtEtx9R3EpC0"
      },
      "source": [
        "paragraph = \"\"\"\n",
        "\n",
        "I have three visions for India.\n",
        "In 3000 years of our history, people from allover the world have come and invaded us, captured our lands, \n",
        "conquered our minds. From Alexander onwards. The Greeks, the Portuguese, the British, the French, the Dutch,\n",
        "all of them came and looted us, took over what was ours. Yet we have not done this to any other nation. \n",
        "We have not conquered anyone. We have not grabbed their land, their culture, their history tried to enforce our way of\n",
        "life on them. Why? Because we respect the freedom of others. That is why my first vision is that of FREEDOM. \n",
        "That is why my first vision is that of FREEDOM. I believe that India got its first vision of this in 1857, \n",
        "when we started the war of independence. It is this freedom that we must protect and nurture and built on. \n",
        "If we are not free, no one will respect us.\n",
        "My second vision for India is DEVELOPMENT. For fifty years we have been a developing nation. \n",
        "It is time we see ourselves as a developed nation. We are among top 5 nations of the world in terms of GDP. \n",
        "We have 10 percent growth rate in most areas. Our poverty levels are falling, our achievements are being globally recognized today.\n",
        "Yet we lack the self-confidence to see ourselves as a developed nation, self reliant and self assured. Isn't this right?\n",
        "I have a third vision. The India must stand up to the world. Because I believe that unless India stands up to the world, \n",
        "no one will respect us. Only strength respects strength. We must be strong not only as a military power but also\n",
        "as an economic power. Both must go hand-in-hand. My good fortune was to have work with three great minds. \n",
        "Dr Vikram Sarabhai of the Dept. of space, Professor Satish Dhawan, who succeeded him, and Dr.Brahm Prakash, \n",
        "father of nuclear material. I was lucky to have worked with all three of them closely and consider this the great \n",
        "opportunity of my life. I see four milestones in my career\n",
        "\n",
        "\"\"\""
      ],
      "execution_count": 31,
      "outputs": []
    },
    {
      "cell_type": "code",
      "metadata": {
        "id": "lfeVGoUQEuji"
      },
      "source": [
        "# preprocessing the data\n",
        "text = re.sub(r'\\[[0-9]*\\]', ' ' ,paragraph)\n",
        "text = re.sub(r'\\s+', ' ', text)\n",
        "text = text.lower()\n",
        "text = re.sub(r'\\d', ' ', text)\n",
        "text = re.sub(r'\\s+',\" \", text) # eliminate duplicate white spaces"
      ],
      "execution_count": 32,
      "outputs": []
    },
    {
      "cell_type": "code",
      "metadata": {
        "id": "4CYr775opdXN"
      },
      "source": [
        "# preparing the dataset\n",
        "sentences = nltk.sent_tokenize(text)"
      ],
      "execution_count": 33,
      "outputs": []
    },
    {
      "cell_type": "code",
      "metadata": {
        "colab": {
          "base_uri": "https://localhost:8080/"
        },
        "id": "9hSHr2Sdpxns",
        "outputId": "26e1c2d3-964e-4682-b666-fb29d0d3198b"
      },
      "source": [
        "sentences"
      ],
      "execution_count": 34,
      "outputs": [
        {
          "output_type": "execute_result",
          "data": {
            "text/plain": [
              "[' i have three visions for india.',\n",
              " 'in years of our history, people from allover the world have come and invaded us, captured our lands, conquered our minds.',\n",
              " 'from alexander onwards.',\n",
              " 'the greeks, the portuguese, the british, the french, the dutch, all of them came and looted us, took over what was ours.',\n",
              " 'yet we have not done this to any other nation.',\n",
              " 'we have not conquered anyone.',\n",
              " 'we have not grabbed their land, their culture, their history tried to enforce our way of life on them.',\n",
              " 'why?',\n",
              " 'because we respect the freedom of others.',\n",
              " 'that is why my first vision is that of freedom.',\n",
              " 'that is why my first vision is that of freedom.',\n",
              " 'i believe that india got its first vision of this in , when we started the war of independence.',\n",
              " 'it is this freedom that we must protect and nurture and built on.',\n",
              " 'if we are not free, no one will respect us.',\n",
              " 'my second vision for india is development.',\n",
              " 'for fifty years we have been a developing nation.',\n",
              " 'it is time we see ourselves as a developed nation.',\n",
              " 'we are among top nations of the world in terms of gdp.',\n",
              " 'we have percent growth rate in most areas.',\n",
              " 'our poverty levels are falling, our achievements are being globally recognized today.',\n",
              " 'yet we lack the self-confidence to see ourselves as a developed nation, self reliant and self assured.',\n",
              " \"isn't this right?\",\n",
              " 'i have a third vision.',\n",
              " 'the india must stand up to the world.',\n",
              " 'because i believe that unless india stands up to the world, no one will respect us.',\n",
              " 'only strength respects strength.',\n",
              " 'we must be strong not only as a military power but also as an economic power.',\n",
              " 'both must go hand-in-hand.',\n",
              " 'my good fortune was to have work with three great minds.',\n",
              " 'dr vikram sarabhai of the dept.',\n",
              " 'of space, professor satish dhawan, who succeeded him, and dr.brahm prakash, father of nuclear material.',\n",
              " 'i was lucky to have worked with all three of them closely and consider this the great opportunity of my life.',\n",
              " 'i see four milestones in my career']"
            ]
          },
          "metadata": {
            "tags": []
          },
          "execution_count": 34
        }
      ]
    },
    {
      "cell_type": "code",
      "metadata": {
        "id": "E7PijS4GqxeN"
      },
      "source": [
        "sentences = [nltk.word_tokenize(sentence) for sentence in sentences]"
      ],
      "execution_count": 35,
      "outputs": []
    },
    {
      "cell_type": "code",
      "metadata": {
        "colab": {
          "base_uri": "https://localhost:8080/"
        },
        "id": "Pzd6Vxgdttrx",
        "outputId": "64673f67-0aab-4e7f-cd02-d44b8ae466c3"
      },
      "source": [
        "sentences"
      ],
      "execution_count": 36,
      "outputs": [
        {
          "output_type": "execute_result",
          "data": {
            "text/plain": [
              "[['i', 'have', 'three', 'visions', 'for', 'india', '.'],\n",
              " ['in',\n",
              "  'years',\n",
              "  'of',\n",
              "  'our',\n",
              "  'history',\n",
              "  ',',\n",
              "  'people',\n",
              "  'from',\n",
              "  'allover',\n",
              "  'the',\n",
              "  'world',\n",
              "  'have',\n",
              "  'come',\n",
              "  'and',\n",
              "  'invaded',\n",
              "  'us',\n",
              "  ',',\n",
              "  'captured',\n",
              "  'our',\n",
              "  'lands',\n",
              "  ',',\n",
              "  'conquered',\n",
              "  'our',\n",
              "  'minds',\n",
              "  '.'],\n",
              " ['from', 'alexander', 'onwards', '.'],\n",
              " ['the',\n",
              "  'greeks',\n",
              "  ',',\n",
              "  'the',\n",
              "  'portuguese',\n",
              "  ',',\n",
              "  'the',\n",
              "  'british',\n",
              "  ',',\n",
              "  'the',\n",
              "  'french',\n",
              "  ',',\n",
              "  'the',\n",
              "  'dutch',\n",
              "  ',',\n",
              "  'all',\n",
              "  'of',\n",
              "  'them',\n",
              "  'came',\n",
              "  'and',\n",
              "  'looted',\n",
              "  'us',\n",
              "  ',',\n",
              "  'took',\n",
              "  'over',\n",
              "  'what',\n",
              "  'was',\n",
              "  'ours',\n",
              "  '.'],\n",
              " ['yet',\n",
              "  'we',\n",
              "  'have',\n",
              "  'not',\n",
              "  'done',\n",
              "  'this',\n",
              "  'to',\n",
              "  'any',\n",
              "  'other',\n",
              "  'nation',\n",
              "  '.'],\n",
              " ['we', 'have', 'not', 'conquered', 'anyone', '.'],\n",
              " ['we',\n",
              "  'have',\n",
              "  'not',\n",
              "  'grabbed',\n",
              "  'their',\n",
              "  'land',\n",
              "  ',',\n",
              "  'their',\n",
              "  'culture',\n",
              "  ',',\n",
              "  'their',\n",
              "  'history',\n",
              "  'tried',\n",
              "  'to',\n",
              "  'enforce',\n",
              "  'our',\n",
              "  'way',\n",
              "  'of',\n",
              "  'life',\n",
              "  'on',\n",
              "  'them',\n",
              "  '.'],\n",
              " ['why', '?'],\n",
              " ['because', 'we', 'respect', 'the', 'freedom', 'of', 'others', '.'],\n",
              " ['that',\n",
              "  'is',\n",
              "  'why',\n",
              "  'my',\n",
              "  'first',\n",
              "  'vision',\n",
              "  'is',\n",
              "  'that',\n",
              "  'of',\n",
              "  'freedom',\n",
              "  '.'],\n",
              " ['that',\n",
              "  'is',\n",
              "  'why',\n",
              "  'my',\n",
              "  'first',\n",
              "  'vision',\n",
              "  'is',\n",
              "  'that',\n",
              "  'of',\n",
              "  'freedom',\n",
              "  '.'],\n",
              " ['i',\n",
              "  'believe',\n",
              "  'that',\n",
              "  'india',\n",
              "  'got',\n",
              "  'its',\n",
              "  'first',\n",
              "  'vision',\n",
              "  'of',\n",
              "  'this',\n",
              "  'in',\n",
              "  ',',\n",
              "  'when',\n",
              "  'we',\n",
              "  'started',\n",
              "  'the',\n",
              "  'war',\n",
              "  'of',\n",
              "  'independence',\n",
              "  '.'],\n",
              " ['it',\n",
              "  'is',\n",
              "  'this',\n",
              "  'freedom',\n",
              "  'that',\n",
              "  'we',\n",
              "  'must',\n",
              "  'protect',\n",
              "  'and',\n",
              "  'nurture',\n",
              "  'and',\n",
              "  'built',\n",
              "  'on',\n",
              "  '.'],\n",
              " ['if',\n",
              "  'we',\n",
              "  'are',\n",
              "  'not',\n",
              "  'free',\n",
              "  ',',\n",
              "  'no',\n",
              "  'one',\n",
              "  'will',\n",
              "  'respect',\n",
              "  'us',\n",
              "  '.'],\n",
              " ['my', 'second', 'vision', 'for', 'india', 'is', 'development', '.'],\n",
              " ['for',\n",
              "  'fifty',\n",
              "  'years',\n",
              "  'we',\n",
              "  'have',\n",
              "  'been',\n",
              "  'a',\n",
              "  'developing',\n",
              "  'nation',\n",
              "  '.'],\n",
              " ['it',\n",
              "  'is',\n",
              "  'time',\n",
              "  'we',\n",
              "  'see',\n",
              "  'ourselves',\n",
              "  'as',\n",
              "  'a',\n",
              "  'developed',\n",
              "  'nation',\n",
              "  '.'],\n",
              " ['we',\n",
              "  'are',\n",
              "  'among',\n",
              "  'top',\n",
              "  'nations',\n",
              "  'of',\n",
              "  'the',\n",
              "  'world',\n",
              "  'in',\n",
              "  'terms',\n",
              "  'of',\n",
              "  'gdp',\n",
              "  '.'],\n",
              " ['we', 'have', 'percent', 'growth', 'rate', 'in', 'most', 'areas', '.'],\n",
              " ['our',\n",
              "  'poverty',\n",
              "  'levels',\n",
              "  'are',\n",
              "  'falling',\n",
              "  ',',\n",
              "  'our',\n",
              "  'achievements',\n",
              "  'are',\n",
              "  'being',\n",
              "  'globally',\n",
              "  'recognized',\n",
              "  'today',\n",
              "  '.'],\n",
              " ['yet',\n",
              "  'we',\n",
              "  'lack',\n",
              "  'the',\n",
              "  'self-confidence',\n",
              "  'to',\n",
              "  'see',\n",
              "  'ourselves',\n",
              "  'as',\n",
              "  'a',\n",
              "  'developed',\n",
              "  'nation',\n",
              "  ',',\n",
              "  'self',\n",
              "  'reliant',\n",
              "  'and',\n",
              "  'self',\n",
              "  'assured',\n",
              "  '.'],\n",
              " ['is', \"n't\", 'this', 'right', '?'],\n",
              " ['i', 'have', 'a', 'third', 'vision', '.'],\n",
              " ['the', 'india', 'must', 'stand', 'up', 'to', 'the', 'world', '.'],\n",
              " ['because',\n",
              "  'i',\n",
              "  'believe',\n",
              "  'that',\n",
              "  'unless',\n",
              "  'india',\n",
              "  'stands',\n",
              "  'up',\n",
              "  'to',\n",
              "  'the',\n",
              "  'world',\n",
              "  ',',\n",
              "  'no',\n",
              "  'one',\n",
              "  'will',\n",
              "  'respect',\n",
              "  'us',\n",
              "  '.'],\n",
              " ['only', 'strength', 'respects', 'strength', '.'],\n",
              " ['we',\n",
              "  'must',\n",
              "  'be',\n",
              "  'strong',\n",
              "  'not',\n",
              "  'only',\n",
              "  'as',\n",
              "  'a',\n",
              "  'military',\n",
              "  'power',\n",
              "  'but',\n",
              "  'also',\n",
              "  'as',\n",
              "  'an',\n",
              "  'economic',\n",
              "  'power',\n",
              "  '.'],\n",
              " ['both', 'must', 'go', 'hand-in-hand', '.'],\n",
              " ['my',\n",
              "  'good',\n",
              "  'fortune',\n",
              "  'was',\n",
              "  'to',\n",
              "  'have',\n",
              "  'work',\n",
              "  'with',\n",
              "  'three',\n",
              "  'great',\n",
              "  'minds',\n",
              "  '.'],\n",
              " ['dr', 'vikram', 'sarabhai', 'of', 'the', 'dept', '.'],\n",
              " ['of',\n",
              "  'space',\n",
              "  ',',\n",
              "  'professor',\n",
              "  'satish',\n",
              "  'dhawan',\n",
              "  ',',\n",
              "  'who',\n",
              "  'succeeded',\n",
              "  'him',\n",
              "  ',',\n",
              "  'and',\n",
              "  'dr.brahm',\n",
              "  'prakash',\n",
              "  ',',\n",
              "  'father',\n",
              "  'of',\n",
              "  'nuclear',\n",
              "  'material',\n",
              "  '.'],\n",
              " ['i',\n",
              "  'was',\n",
              "  'lucky',\n",
              "  'to',\n",
              "  'have',\n",
              "  'worked',\n",
              "  'with',\n",
              "  'all',\n",
              "  'three',\n",
              "  'of',\n",
              "  'them',\n",
              "  'closely',\n",
              "  'and',\n",
              "  'consider',\n",
              "  'this',\n",
              "  'the',\n",
              "  'great',\n",
              "  'opportunity',\n",
              "  'of',\n",
              "  'my',\n",
              "  'life',\n",
              "  '.'],\n",
              " ['i', 'see', 'four', 'milestones', 'in', 'my', 'career']]"
            ]
          },
          "metadata": {
            "tags": []
          },
          "execution_count": 36
        }
      ]
    },
    {
      "cell_type": "code",
      "metadata": {
        "colab": {
          "base_uri": "https://localhost:8080/"
        },
        "id": "3BMKRLUgrAAY",
        "outputId": "ed3188f0-507a-401a-8c98-18768de20021"
      },
      "source": [
        "import numpy as np\n",
        "np.shape(sentences)"
      ],
      "execution_count": 37,
      "outputs": [
        {
          "output_type": "stream",
          "text": [
            "/usr/local/lib/python3.7/dist-packages/numpy/core/_asarray.py:83: VisibleDeprecationWarning: Creating an ndarray from ragged nested sequences (which is a list-or-tuple of lists-or-tuples-or ndarrays with different lengths or shapes) is deprecated. If you meant to do this, you must specify 'dtype=object' when creating the ndarray\n",
            "  return array(a, dtype, copy=False, order=order)\n"
          ],
          "name": "stderr"
        },
        {
          "output_type": "execute_result",
          "data": {
            "text/plain": [
              "(33,)"
            ]
          },
          "metadata": {
            "tags": []
          },
          "execution_count": 37
        }
      ]
    },
    {
      "cell_type": "code",
      "metadata": {
        "id": "YICRVcPnsS4w"
      },
      "source": [
        "# making our corpus free from any stopwords which are irrelevant in any of the analysis case.\n",
        "for i in range(len(sentences)):\n",
        "  sentences[i] = [word for word in sentences[i] if word not in stopwords.words('english')]"
      ],
      "execution_count": 38,
      "outputs": []
    },
    {
      "cell_type": "code",
      "metadata": {
        "colab": {
          "base_uri": "https://localhost:8080/"
        },
        "id": "S3FEPTzUtNz4",
        "outputId": "c4309d2a-5396-4471-ba9c-6cc45c5aa5bf"
      },
      "source": [
        "sentences"
      ],
      "execution_count": 39,
      "outputs": [
        {
          "output_type": "execute_result",
          "data": {
            "text/plain": [
              "[['three', 'visions', 'india', '.'],\n",
              " ['years',\n",
              "  'history',\n",
              "  ',',\n",
              "  'people',\n",
              "  'allover',\n",
              "  'world',\n",
              "  'come',\n",
              "  'invaded',\n",
              "  'us',\n",
              "  ',',\n",
              "  'captured',\n",
              "  'lands',\n",
              "  ',',\n",
              "  'conquered',\n",
              "  'minds',\n",
              "  '.'],\n",
              " ['alexander', 'onwards', '.'],\n",
              " ['greeks',\n",
              "  ',',\n",
              "  'portuguese',\n",
              "  ',',\n",
              "  'british',\n",
              "  ',',\n",
              "  'french',\n",
              "  ',',\n",
              "  'dutch',\n",
              "  ',',\n",
              "  'came',\n",
              "  'looted',\n",
              "  'us',\n",
              "  ',',\n",
              "  'took',\n",
              "  '.'],\n",
              " ['yet', 'done', 'nation', '.'],\n",
              " ['conquered', 'anyone', '.'],\n",
              " ['grabbed',\n",
              "  'land',\n",
              "  ',',\n",
              "  'culture',\n",
              "  ',',\n",
              "  'history',\n",
              "  'tried',\n",
              "  'enforce',\n",
              "  'way',\n",
              "  'life',\n",
              "  '.'],\n",
              " ['?'],\n",
              " ['respect', 'freedom', 'others', '.'],\n",
              " ['first', 'vision', 'freedom', '.'],\n",
              " ['first', 'vision', 'freedom', '.'],\n",
              " ['believe',\n",
              "  'india',\n",
              "  'got',\n",
              "  'first',\n",
              "  'vision',\n",
              "  ',',\n",
              "  'started',\n",
              "  'war',\n",
              "  'independence',\n",
              "  '.'],\n",
              " ['freedom', 'must', 'protect', 'nurture', 'built', '.'],\n",
              " ['free', ',', 'one', 'respect', 'us', '.'],\n",
              " ['second', 'vision', 'india', 'development', '.'],\n",
              " ['fifty', 'years', 'developing', 'nation', '.'],\n",
              " ['time', 'see', 'developed', 'nation', '.'],\n",
              " ['among', 'top', 'nations', 'world', 'terms', 'gdp', '.'],\n",
              " ['percent', 'growth', 'rate', 'areas', '.'],\n",
              " ['poverty',\n",
              "  'levels',\n",
              "  'falling',\n",
              "  ',',\n",
              "  'achievements',\n",
              "  'globally',\n",
              "  'recognized',\n",
              "  'today',\n",
              "  '.'],\n",
              " ['yet',\n",
              "  'lack',\n",
              "  'self-confidence',\n",
              "  'see',\n",
              "  'developed',\n",
              "  'nation',\n",
              "  ',',\n",
              "  'self',\n",
              "  'reliant',\n",
              "  'self',\n",
              "  'assured',\n",
              "  '.'],\n",
              " [\"n't\", 'right', '?'],\n",
              " ['third', 'vision', '.'],\n",
              " ['india', 'must', 'stand', 'world', '.'],\n",
              " ['believe',\n",
              "  'unless',\n",
              "  'india',\n",
              "  'stands',\n",
              "  'world',\n",
              "  ',',\n",
              "  'one',\n",
              "  'respect',\n",
              "  'us',\n",
              "  '.'],\n",
              " ['strength', 'respects', 'strength', '.'],\n",
              " ['must', 'strong', 'military', 'power', 'also', 'economic', 'power', '.'],\n",
              " ['must', 'go', 'hand-in-hand', '.'],\n",
              " ['good', 'fortune', 'work', 'three', 'great', 'minds', '.'],\n",
              " ['dr', 'vikram', 'sarabhai', 'dept', '.'],\n",
              " ['space',\n",
              "  ',',\n",
              "  'professor',\n",
              "  'satish',\n",
              "  'dhawan',\n",
              "  ',',\n",
              "  'succeeded',\n",
              "  ',',\n",
              "  'dr.brahm',\n",
              "  'prakash',\n",
              "  ',',\n",
              "  'father',\n",
              "  'nuclear',\n",
              "  'material',\n",
              "  '.'],\n",
              " ['lucky',\n",
              "  'worked',\n",
              "  'three',\n",
              "  'closely',\n",
              "  'consider',\n",
              "  'great',\n",
              "  'opportunity',\n",
              "  'life',\n",
              "  '.'],\n",
              " ['see', 'four', 'milestones', 'career']]"
            ]
          },
          "metadata": {
            "tags": []
          },
          "execution_count": 39
        }
      ]
    },
    {
      "cell_type": "code",
      "metadata": {
        "id": "yWHtY0e3t5L5"
      },
      "source": [
        "# training the word2vec model\n",
        "model = Word2Vec(sentences, min_count=1) # min_count=1 basically says that if the word is not present more than once, leave those"
      ],
      "execution_count": 43,
      "outputs": []
    },
    {
      "cell_type": "code",
      "metadata": {
        "id": "4WTu8S_3uSt8"
      },
      "source": [
        "words = model.wv.vocab"
      ],
      "execution_count": 44,
      "outputs": []
    },
    {
      "cell_type": "code",
      "metadata": {
        "colab": {
          "base_uri": "https://localhost:8080/"
        },
        "id": "ke1C1zkhu-3_",
        "outputId": "38cb3242-ee39-4efd-de37-f8ed9590df88"
      },
      "source": [
        "words"
      ],
      "execution_count": 45,
      "outputs": [
        {
          "output_type": "execute_result",
          "data": {
            "text/plain": [
              "{',': <gensim.models.keyedvectors.Vocab at 0x7fc9a53d7b50>,\n",
              " '.': <gensim.models.keyedvectors.Vocab at 0x7fc9a566df90>,\n",
              " '?': <gensim.models.keyedvectors.Vocab at 0x7fc9a8c04490>,\n",
              " 'achievements': <gensim.models.keyedvectors.Vocab at 0x7fc9a54034d0>,\n",
              " 'alexander': <gensim.models.keyedvectors.Vocab at 0x7fc9a53c9b90>,\n",
              " 'allover': <gensim.models.keyedvectors.Vocab at 0x7fc9a566dc50>,\n",
              " 'also': <gensim.models.keyedvectors.Vocab at 0x7fc9a5677950>,\n",
              " 'among': <gensim.models.keyedvectors.Vocab at 0x7fc9a5403b10>,\n",
              " 'anyone': <gensim.models.keyedvectors.Vocab at 0x7fc9a53c9190>,\n",
              " 'areas': <gensim.models.keyedvectors.Vocab at 0x7fc9a54033d0>,\n",
              " 'assured': <gensim.models.keyedvectors.Vocab at 0x7fc9a56779d0>,\n",
              " 'believe': <gensim.models.keyedvectors.Vocab at 0x7fc9a56341d0>,\n",
              " 'british': <gensim.models.keyedvectors.Vocab at 0x7fc9a53c9450>,\n",
              " 'built': <gensim.models.keyedvectors.Vocab at 0x7fc9a5636810>,\n",
              " 'came': <gensim.models.keyedvectors.Vocab at 0x7fc9a53c9250>,\n",
              " 'captured': <gensim.models.keyedvectors.Vocab at 0x7fc9a81510d0>,\n",
              " 'career': <gensim.models.keyedvectors.Vocab at 0x7fc9a55afc50>,\n",
              " 'closely': <gensim.models.keyedvectors.Vocab at 0x7fc9a55af410>,\n",
              " 'come': <gensim.models.keyedvectors.Vocab at 0x7fc9a53d7990>,\n",
              " 'conquered': <gensim.models.keyedvectors.Vocab at 0x7fc9a53c9dd0>,\n",
              " 'consider': <gensim.models.keyedvectors.Vocab at 0x7fc9a55af750>,\n",
              " 'culture': <gensim.models.keyedvectors.Vocab at 0x7fc9a53c96d0>,\n",
              " 'dept': <gensim.models.keyedvectors.Vocab at 0x7fc9a55af390>,\n",
              " 'developed': <gensim.models.keyedvectors.Vocab at 0x7fc9a56365d0>,\n",
              " 'developing': <gensim.models.keyedvectors.Vocab at 0x7fc9a56366d0>,\n",
              " 'development': <gensim.models.keyedvectors.Vocab at 0x7fc9a5636c50>,\n",
              " 'dhawan': <gensim.models.keyedvectors.Vocab at 0x7fc9a55af250>,\n",
              " 'done': <gensim.models.keyedvectors.Vocab at 0x7fc9a53c9890>,\n",
              " 'dr': <gensim.models.keyedvectors.Vocab at 0x7fc9a55af610>,\n",
              " 'dr.brahm': <gensim.models.keyedvectors.Vocab at 0x7fc9a55afe90>,\n",
              " 'dutch': <gensim.models.keyedvectors.Vocab at 0x7fc9a53c9ad0>,\n",
              " 'economic': <gensim.models.keyedvectors.Vocab at 0x7fc9a5677210>,\n",
              " 'enforce': <gensim.models.keyedvectors.Vocab at 0x7fc9a53c9150>,\n",
              " 'falling': <gensim.models.keyedvectors.Vocab at 0x7fc9a54038d0>,\n",
              " 'father': <gensim.models.keyedvectors.Vocab at 0x7fc9a55af310>,\n",
              " 'fifty': <gensim.models.keyedvectors.Vocab at 0x7fc9a5636950>,\n",
              " 'first': <gensim.models.keyedvectors.Vocab at 0x7fc9a56345d0>,\n",
              " 'fortune': <gensim.models.keyedvectors.Vocab at 0x7fc9a813de90>,\n",
              " 'four': <gensim.models.keyedvectors.Vocab at 0x7fc9a55af1d0>,\n",
              " 'free': <gensim.models.keyedvectors.Vocab at 0x7fc9a5636f50>,\n",
              " 'freedom': <gensim.models.keyedvectors.Vocab at 0x7fc9a5634850>,\n",
              " 'french': <gensim.models.keyedvectors.Vocab at 0x7fc9a53c9e10>,\n",
              " 'gdp': <gensim.models.keyedvectors.Vocab at 0x7fc9a5403c10>,\n",
              " 'globally': <gensim.models.keyedvectors.Vocab at 0x7fc9a5403ed0>,\n",
              " 'go': <gensim.models.keyedvectors.Vocab at 0x7fc9a5bfb390>,\n",
              " 'good': <gensim.models.keyedvectors.Vocab at 0x7fc9a881af10>,\n",
              " 'got': <gensim.models.keyedvectors.Vocab at 0x7fc9a56343d0>,\n",
              " 'grabbed': <gensim.models.keyedvectors.Vocab at 0x7fc9a53c9290>,\n",
              " 'great': <gensim.models.keyedvectors.Vocab at 0x7fc9a813dbd0>,\n",
              " 'greeks': <gensim.models.keyedvectors.Vocab at 0x7fc9a53c9690>,\n",
              " 'growth': <gensim.models.keyedvectors.Vocab at 0x7fc9a5403590>,\n",
              " 'hand-in-hand': <gensim.models.keyedvectors.Vocab at 0x7fc9a5bfba90>,\n",
              " 'history': <gensim.models.keyedvectors.Vocab at 0x7fc9a53d7590>,\n",
              " 'independence': <gensim.models.keyedvectors.Vocab at 0x7fc9a5636390>,\n",
              " 'india': <gensim.models.keyedvectors.Vocab at 0x7fc9a566df50>,\n",
              " 'invaded': <gensim.models.keyedvectors.Vocab at 0x7fc9a53d77d0>,\n",
              " 'lack': <gensim.models.keyedvectors.Vocab at 0x7fc9a54036d0>,\n",
              " 'land': <gensim.models.keyedvectors.Vocab at 0x7fc9a53c9810>,\n",
              " 'lands': <gensim.models.keyedvectors.Vocab at 0x7fc9a53c9050>,\n",
              " 'levels': <gensim.models.keyedvectors.Vocab at 0x7fc9a5403650>,\n",
              " 'life': <gensim.models.keyedvectors.Vocab at 0x7fc9a8c0b590>,\n",
              " 'looted': <gensim.models.keyedvectors.Vocab at 0x7fc9a53c9090>,\n",
              " 'lucky': <gensim.models.keyedvectors.Vocab at 0x7fc9a55afd90>,\n",
              " 'material': <gensim.models.keyedvectors.Vocab at 0x7fc9a55afcd0>,\n",
              " 'milestones': <gensim.models.keyedvectors.Vocab at 0x7fc9a55af050>,\n",
              " 'military': <gensim.models.keyedvectors.Vocab at 0x7fc9a5677890>,\n",
              " 'minds': <gensim.models.keyedvectors.Vocab at 0x7fc9a53c95d0>,\n",
              " 'must': <gensim.models.keyedvectors.Vocab at 0x7fc9a5636410>,\n",
              " \"n't\": <gensim.models.keyedvectors.Vocab at 0x7fc9a5677990>,\n",
              " 'nation': <gensim.models.keyedvectors.Vocab at 0x7fc9a53c9bd0>,\n",
              " 'nations': <gensim.models.keyedvectors.Vocab at 0x7fc9a5403a90>,\n",
              " 'nuclear': <gensim.models.keyedvectors.Vocab at 0x7fc9a55af890>,\n",
              " 'nurture': <gensim.models.keyedvectors.Vocab at 0x7fc9a56363d0>,\n",
              " 'one': <gensim.models.keyedvectors.Vocab at 0x7fc9a5636e50>,\n",
              " 'onwards': <gensim.models.keyedvectors.Vocab at 0x7fc9a53c91d0>,\n",
              " 'opportunity': <gensim.models.keyedvectors.Vocab at 0x7fc9a55af590>,\n",
              " 'others': <gensim.models.keyedvectors.Vocab at 0x7fc9a5634e10>,\n",
              " 'people': <gensim.models.keyedvectors.Vocab at 0x7fc9a53d7050>,\n",
              " 'percent': <gensim.models.keyedvectors.Vocab at 0x7fc9a5403150>,\n",
              " 'portuguese': <gensim.models.keyedvectors.Vocab at 0x7fc9a53c9310>,\n",
              " 'poverty': <gensim.models.keyedvectors.Vocab at 0x7fc9a5403a10>,\n",
              " 'power': <gensim.models.keyedvectors.Vocab at 0x7fc9a5677550>,\n",
              " 'prakash': <gensim.models.keyedvectors.Vocab at 0x7fc9a55af090>,\n",
              " 'professor': <gensim.models.keyedvectors.Vocab at 0x7fc9a55afc90>,\n",
              " 'protect': <gensim.models.keyedvectors.Vocab at 0x7fc9a56362d0>,\n",
              " 'rate': <gensim.models.keyedvectors.Vocab at 0x7fc9a5403f50>,\n",
              " 'recognized': <gensim.models.keyedvectors.Vocab at 0x7fc9a5403450>,\n",
              " 'reliant': <gensim.models.keyedvectors.Vocab at 0x7fc9a5403cd0>,\n",
              " 'respect': <gensim.models.keyedvectors.Vocab at 0x7fc9a5634710>,\n",
              " 'respects': <gensim.models.keyedvectors.Vocab at 0x7fc9a5677c50>,\n",
              " 'right': <gensim.models.keyedvectors.Vocab at 0x7fc9a5677110>,\n",
              " 'sarabhai': <gensim.models.keyedvectors.Vocab at 0x7fc9a55af210>,\n",
              " 'satish': <gensim.models.keyedvectors.Vocab at 0x7fc9a55afed0>,\n",
              " 'second': <gensim.models.keyedvectors.Vocab at 0x7fc9a5636a50>,\n",
              " 'see': <gensim.models.keyedvectors.Vocab at 0x7fc9a5636610>,\n",
              " 'self': <gensim.models.keyedvectors.Vocab at 0x7fc9a5403610>,\n",
              " 'self-confidence': <gensim.models.keyedvectors.Vocab at 0x7fc9a5403290>,\n",
              " 'space': <gensim.models.keyedvectors.Vocab at 0x7fc9a55af810>,\n",
              " 'stand': <gensim.models.keyedvectors.Vocab at 0x7fc9a5677a50>,\n",
              " 'stands': <gensim.models.keyedvectors.Vocab at 0x7fc9a5677750>,\n",
              " 'started': <gensim.models.keyedvectors.Vocab at 0x7fc9a56348d0>,\n",
              " 'strength': <gensim.models.keyedvectors.Vocab at 0x7fc9a5677350>,\n",
              " 'strong': <gensim.models.keyedvectors.Vocab at 0x7fc9a5677e10>,\n",
              " 'succeeded': <gensim.models.keyedvectors.Vocab at 0x7fc9a55af990>,\n",
              " 'terms': <gensim.models.keyedvectors.Vocab at 0x7fc9a5403850>,\n",
              " 'third': <gensim.models.keyedvectors.Vocab at 0x7fc9a5677510>,\n",
              " 'three': <gensim.models.keyedvectors.Vocab at 0x7fc9a566d6d0>,\n",
              " 'time': <gensim.models.keyedvectors.Vocab at 0x7fc9a5636bd0>,\n",
              " 'today': <gensim.models.keyedvectors.Vocab at 0x7fc9a5403f10>,\n",
              " 'took': <gensim.models.keyedvectors.Vocab at 0x7fc9a53c9990>,\n",
              " 'top': <gensim.models.keyedvectors.Vocab at 0x7fc9a5403310>,\n",
              " 'tried': <gensim.models.keyedvectors.Vocab at 0x7fc9a53c9790>,\n",
              " 'unless': <gensim.models.keyedvectors.Vocab at 0x7fc9a5677910>,\n",
              " 'us': <gensim.models.keyedvectors.Vocab at 0x7fc9a8151c90>,\n",
              " 'vikram': <gensim.models.keyedvectors.Vocab at 0x7fc9a55afa10>,\n",
              " 'vision': <gensim.models.keyedvectors.Vocab at 0x7fc9a5634210>,\n",
              " 'visions': <gensim.models.keyedvectors.Vocab at 0x7fc9a566dd50>,\n",
              " 'war': <gensim.models.keyedvectors.Vocab at 0x7fc9a56361d0>,\n",
              " 'way': <gensim.models.keyedvectors.Vocab at 0x7fc9a53c9510>,\n",
              " 'work': <gensim.models.keyedvectors.Vocab at 0x7fc9a813ddd0>,\n",
              " 'worked': <gensim.models.keyedvectors.Vocab at 0x7fc9a55afd50>,\n",
              " 'world': <gensim.models.keyedvectors.Vocab at 0x7fc9a8c8c590>,\n",
              " 'years': <gensim.models.keyedvectors.Vocab at 0x7fc9a8c3cf50>,\n",
              " 'yet': <gensim.models.keyedvectors.Vocab at 0x7fc9a53c9110>}"
            ]
          },
          "metadata": {
            "tags": []
          },
          "execution_count": 45
        }
      ]
    },
    {
      "cell_type": "code",
      "metadata": {
        "id": "Lb3gP5tAvT5g"
      },
      "source": [
        "# finding word's vectors\n",
        "vector = model.wv['war']"
      ],
      "execution_count": 46,
      "outputs": []
    },
    {
      "cell_type": "code",
      "metadata": {
        "colab": {
          "base_uri": "https://localhost:8080/"
        },
        "id": "uynORkv-vaa6",
        "outputId": "3fe84a9c-ed33-41ee-9f16-d9f920b1fc5f"
      },
      "source": [
        "vector # this is the vector corresponding to a word called 'war'"
      ],
      "execution_count": 47,
      "outputs": [
        {
          "output_type": "execute_result",
          "data": {
            "text/plain": [
              "array([-3.5203809e-03,  6.8190327e-04, -1.5283270e-03, -1.9643819e-03,\n",
              "        6.7483983e-04,  1.1422609e-03, -2.9283026e-03,  9.1218494e-04,\n",
              "       -4.5162509e-03, -3.8561015e-04, -2.3098898e-03,  3.6361483e-03,\n",
              "       -9.3238970e-04,  3.5586595e-03,  4.1111158e-03,  4.4803885e-03,\n",
              "       -1.5794439e-03, -1.9243653e-03, -4.5508714e-03, -1.6681748e-03,\n",
              "        3.3451405e-03, -3.2075951e-03,  1.5247407e-03,  4.4161854e-03,\n",
              "        4.5573963e-03,  3.8351016e-03,  4.7103036e-03, -2.4740307e-03,\n",
              "       -3.1951945e-03, -5.7151006e-04, -1.6535429e-03, -3.3238179e-03,\n",
              "       -1.2913657e-03,  4.7308064e-04, -4.3172855e-03, -3.6453279e-03,\n",
              "        4.2190659e-03,  3.6303184e-03, -1.8017445e-03,  3.7480637e-03,\n",
              "        3.1077038e-03, -3.0938080e-03,  3.9344151e-03, -4.8589756e-04,\n",
              "       -2.2058180e-03,  4.3812348e-03,  3.6997672e-03, -4.7150115e-05,\n",
              "       -1.7965522e-03,  2.7275276e-03,  4.4576097e-03, -4.9691317e-03,\n",
              "        2.1116980e-03, -3.4150244e-03, -6.6235976e-04, -2.4070239e-03,\n",
              "        2.4647657e-03,  9.5635775e-04, -7.6358131e-04,  3.1743872e-03,\n",
              "       -1.1943709e-03, -3.8375040e-03,  1.3102919e-03,  3.0783028e-03,\n",
              "       -3.8390444e-03, -3.5274990e-03, -4.8190127e-03, -1.6473993e-03,\n",
              "        4.6186843e-03, -4.8024142e-03, -3.6282826e-03, -3.4423266e-03,\n",
              "        3.1800955e-03, -4.0567098e-03, -2.8083741e-03, -2.4924779e-03,\n",
              "        1.7084957e-03, -5.1746401e-04, -4.2228918e-03, -2.9810218e-03,\n",
              "       -3.5987422e-03,  1.6604034e-03,  3.5401543e-03,  6.9665432e-04,\n",
              "       -6.5463089e-04,  9.6695736e-04,  1.2601372e-03,  1.0552361e-03,\n",
              "        2.4099653e-03, -1.2975468e-03,  2.6703309e-04,  1.8586866e-03,\n",
              "        3.9037990e-03, -1.7408386e-04,  3.1089559e-03,  1.7944688e-03,\n",
              "       -2.6793070e-03, -2.1569296e-03,  5.0214734e-05, -7.4517273e-04],\n",
              "      dtype=float32)"
            ]
          },
          "metadata": {
            "tags": []
          },
          "execution_count": 47
        }
      ]
    },
    {
      "cell_type": "code",
      "metadata": {
        "id": "BQ2zK4NNvnt4"
      },
      "source": [
        "# most similiar words\n",
        "similiar = model.wv.most_similar('war')"
      ],
      "execution_count": 48,
      "outputs": []
    },
    {
      "cell_type": "code",
      "metadata": {
        "colab": {
          "base_uri": "https://localhost:8080/"
        },
        "id": "ztw_sxIxv7kj",
        "outputId": "eb329ede-5aa1-4409-b674-ca66916e2af7"
      },
      "source": [
        "similiar"
      ],
      "execution_count": 49,
      "outputs": [
        {
          "output_type": "execute_result",
          "data": {
            "text/plain": [
              "[('history', 0.25453072786331177),\n",
              " ('fifty', 0.22315384447574615),\n",
              " ('consider', 0.2118149995803833),\n",
              " ('visions', 0.20375117659568787),\n",
              " ('others', 0.203642800450325),\n",
              " ('succeeded', 0.19850537180900574),\n",
              " ('self-confidence', 0.1764809787273407),\n",
              " ('nations', 0.17333576083183289),\n",
              " ('milestones', 0.1605088859796524),\n",
              " ('self', 0.1550319492816925)]"
            ]
          },
          "metadata": {
            "tags": []
          },
          "execution_count": 49
        }
      ]
    }
  ]
}