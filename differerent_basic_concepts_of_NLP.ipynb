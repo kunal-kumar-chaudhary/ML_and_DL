{
  "nbformat": 4,
  "nbformat_minor": 0,
  "metadata": {
    "colab": {
      "name": "Untitled44.ipynb",
      "provenance": [],
      "collapsed_sections": [],
      "authorship_tag": "ABX9TyM77kCuY5es6vFq7FKFingP",
      "include_colab_link": true
    },
    "kernelspec": {
      "name": "python3",
      "display_name": "Python 3"
    },
    "language_info": {
      "name": "python"
    }
  },
  "cells": [
    {
      "cell_type": "markdown",
      "metadata": {
        "id": "view-in-github",
        "colab_type": "text"
      },
      "source": [
        "<a href=\"https://colab.research.google.com/github/1901010019/1901010019.github.io/blob/master/differerent_basic_concepts_of_NLP.ipynb\" target=\"_parent\"><img src=\"https://colab.research.google.com/assets/colab-badge.svg\" alt=\"Open In Colab\"/></a>"
      ]
    },
    {
      "cell_type": "markdown",
      "metadata": {
        "id": "ENh2Xvj8C-Lk"
      },
      "source": [
        "# TOKENIZATION"
      ]
    },
    {
      "cell_type": "markdown",
      "metadata": {
        "id": "_Ad1PJ4QDCRF"
      },
      "source": [
        "using this we convert any paragraph into sentences"
      ]
    },
    {
      "cell_type": "code",
      "metadata": {
        "colab": {
          "base_uri": "https://localhost:8080/"
        },
        "id": "n_8fuYGoCcrk",
        "outputId": "7e36615f-3814-4561-ac22-57e3edf88cfa"
      },
      "source": [
        "import nltk\n",
        "nltk.download('punkt') # dowloaded 'punkt' module from 'nltk' library"
      ],
      "execution_count": 1,
      "outputs": [
        {
          "output_type": "stream",
          "text": [
            "[nltk_data] Downloading package punkt to /root/nltk_data...\n",
            "[nltk_data]   Unzipping tokenizers/punkt.zip.\n"
          ],
          "name": "stdout"
        },
        {
          "output_type": "execute_result",
          "data": {
            "text/plain": [
              "True"
            ]
          },
          "metadata": {
            "tags": []
          },
          "execution_count": 1
        }
      ]
    },
    {
      "cell_type": "code",
      "metadata": {
        "id": "9EDcSOJADeW2"
      },
      "source": [
        "paragraph = \"\"\"\n",
        "\n",
        "I have three visions for India.\n",
        "In 3000 years of our history, people from allover the world have come and invaded us, captured our lands, \n",
        "conquered our minds. From Alexander onwards. The Greeks, the Portuguese, the British, the French, the Dutch,\n",
        "all of them came and looted us, took over what was ours. Yet we have not done this to any other nation. \n",
        "We have not conquered anyone. We have not grabbed their land, their culture, their history tried to enforce our way of\n",
        "life on them. Why? Because we respect the freedom of others. That is why my first vision is that of FREEDOM. \n",
        "That is why my first vision is that of FREEDOM. I believe that India got its first vision of this in 1857, \n",
        "when we started the war of independence. It is this freedom that we must protect and nurture and built on. \n",
        "If we are not free, no one will respect us.\n",
        "My second vision for India is DEVELOPMENT. For fifty years we have been a developing nation. \n",
        "It is time we see ourselves as a developed nation. We are among top 5 nations of the world in terms of GDP. \n",
        "We have 10 percent growth rate in most areas. Our poverty levels are falling, our achievements are being globally recognized today.\n",
        "Yet we lack the self-confidence to see ourselves as a developed nation, self reliant and self assured. Isn't this right?\n",
        "I have a third vision. The India must stand up to the world. Because I believe that unless India stands up to the world, \n",
        "no one will respect us. Only strength respects strength. We must be strong not only as a military power but also\n",
        "as an economic power. Both must go hand-in-hand. My good fortune was to have work with three great minds. \n",
        "Dr Vikram Sarabhai of the Dept. of space, Professor Satish Dhawan, who succeeded him, and Dr.Brahm Prakash, \n",
        "father of nuclear material. I was lucky to have worked with all three of them closely and consider this the great \n",
        "opportunity of my life. I see four milestones in my career\n",
        "\n",
        "\"\"\""
      ],
      "execution_count": 2,
      "outputs": []
    },
    {
      "cell_type": "markdown",
      "metadata": {
        "id": "VdwdB3JyGecA"
      },
      "source": [
        "# TOKENIZING SENTENCES"
      ]
    },
    {
      "cell_type": "code",
      "metadata": {
        "id": "Cg7G1raYGcV0"
      },
      "source": [
        "sentences = nltk.sent_tokenize(paragraph)"
      ],
      "execution_count": 3,
      "outputs": []
    },
    {
      "cell_type": "code",
      "metadata": {
        "colab": {
          "base_uri": "https://localhost:8080/"
        },
        "id": "0HGJG4o6G_Ra",
        "outputId": "f20e50e0-3a29-4f1e-d136-e6e8e41f4790"
      },
      "source": [
        "sentences"
      ],
      "execution_count": 4,
      "outputs": [
        {
          "output_type": "execute_result",
          "data": {
            "text/plain": [
              "['\\n\\nI have three visions for India.',\n",
              " 'In 3000 years of our history, people from allover the world have come and invaded us, captured our lands, \\nconquered our minds.',\n",
              " 'From Alexander onwards.',\n",
              " 'The Greeks, the Portuguese, the British, the French, the Dutch,\\nall of them came and looted us, took over what was ours.',\n",
              " 'Yet we have not done this to any other nation.',\n",
              " 'We have not conquered anyone.',\n",
              " 'We have not grabbed their land, their culture, their history tried to enforce our way of\\nlife on them.',\n",
              " 'Why?',\n",
              " 'Because we respect the freedom of others.',\n",
              " 'That is why my first vision is that of FREEDOM.',\n",
              " 'That is why my first vision is that of FREEDOM.',\n",
              " 'I believe that India got its first vision of this in 1857, \\nwhen we started the war of independence.',\n",
              " 'It is this freedom that we must protect and nurture and built on.',\n",
              " 'If we are not free, no one will respect us.',\n",
              " 'My second vision for India is DEVELOPMENT.',\n",
              " 'For fifty years we have been a developing nation.',\n",
              " 'It is time we see ourselves as a developed nation.',\n",
              " 'We are among top 5 nations of the world in terms of GDP.',\n",
              " 'We have 10 percent growth rate in most areas.',\n",
              " 'Our poverty levels are falling, our achievements are being globally recognized today.',\n",
              " 'Yet we lack the self-confidence to see ourselves as a developed nation, self reliant and self assured.',\n",
              " \"Isn't this right?\",\n",
              " 'I have a third vision.',\n",
              " 'The India must stand up to the world.',\n",
              " 'Because I believe that unless India stands up to the world, \\nno one will respect us.',\n",
              " 'Only strength respects strength.',\n",
              " 'We must be strong not only as a military power but also\\nas an economic power.',\n",
              " 'Both must go hand-in-hand.',\n",
              " 'My good fortune was to have work with three great minds.',\n",
              " 'Dr Vikram Sarabhai of the Dept.',\n",
              " 'of space, Professor Satish Dhawan, who succeeded him, and Dr.Brahm Prakash, \\nfather of nuclear material.',\n",
              " 'I was lucky to have worked with all three of them closely and consider this the great \\nopportunity of my life.',\n",
              " 'I see four milestones in my career']"
            ]
          },
          "metadata": {
            "tags": []
          },
          "execution_count": 4
        }
      ]
    },
    {
      "cell_type": "code",
      "metadata": {
        "colab": {
          "base_uri": "https://localhost:8080/"
        },
        "id": "2IWvFwkCHdWM",
        "outputId": "65284502-589a-4aee-d886-89393a5c5792"
      },
      "source": [
        "len(sentences) # there are 33 sentences in this paragraph"
      ],
      "execution_count": 5,
      "outputs": [
        {
          "output_type": "execute_result",
          "data": {
            "text/plain": [
              "33"
            ]
          },
          "metadata": {
            "tags": []
          },
          "execution_count": 5
        }
      ]
    },
    {
      "cell_type": "markdown",
      "metadata": {
        "id": "NFx0aqecGxlZ"
      },
      "source": [
        "# TOKENIZING WORDS"
      ]
    },
    {
      "cell_type": "code",
      "metadata": {
        "id": "JNB-3oV_GxD7"
      },
      "source": [
        "words = nltk.word_tokenize(paragraph)"
      ],
      "execution_count": 6,
      "outputs": []
    },
    {
      "cell_type": "code",
      "metadata": {
        "colab": {
          "base_uri": "https://localhost:8080/"
        },
        "id": "6cHUdRgRHDSQ",
        "outputId": "d23a0c73-a967-4fd7-ccb0-d64a01fab807"
      },
      "source": [
        "words"
      ],
      "execution_count": 7,
      "outputs": [
        {
          "output_type": "execute_result",
          "data": {
            "text/plain": [
              "['I',\n",
              " 'have',\n",
              " 'three',\n",
              " 'visions',\n",
              " 'for',\n",
              " 'India',\n",
              " '.',\n",
              " 'In',\n",
              " '3000',\n",
              " 'years',\n",
              " 'of',\n",
              " 'our',\n",
              " 'history',\n",
              " ',',\n",
              " 'people',\n",
              " 'from',\n",
              " 'allover',\n",
              " 'the',\n",
              " 'world',\n",
              " 'have',\n",
              " 'come',\n",
              " 'and',\n",
              " 'invaded',\n",
              " 'us',\n",
              " ',',\n",
              " 'captured',\n",
              " 'our',\n",
              " 'lands',\n",
              " ',',\n",
              " 'conquered',\n",
              " 'our',\n",
              " 'minds',\n",
              " '.',\n",
              " 'From',\n",
              " 'Alexander',\n",
              " 'onwards',\n",
              " '.',\n",
              " 'The',\n",
              " 'Greeks',\n",
              " ',',\n",
              " 'the',\n",
              " 'Portuguese',\n",
              " ',',\n",
              " 'the',\n",
              " 'British',\n",
              " ',',\n",
              " 'the',\n",
              " 'French',\n",
              " ',',\n",
              " 'the',\n",
              " 'Dutch',\n",
              " ',',\n",
              " 'all',\n",
              " 'of',\n",
              " 'them',\n",
              " 'came',\n",
              " 'and',\n",
              " 'looted',\n",
              " 'us',\n",
              " ',',\n",
              " 'took',\n",
              " 'over',\n",
              " 'what',\n",
              " 'was',\n",
              " 'ours',\n",
              " '.',\n",
              " 'Yet',\n",
              " 'we',\n",
              " 'have',\n",
              " 'not',\n",
              " 'done',\n",
              " 'this',\n",
              " 'to',\n",
              " 'any',\n",
              " 'other',\n",
              " 'nation',\n",
              " '.',\n",
              " 'We',\n",
              " 'have',\n",
              " 'not',\n",
              " 'conquered',\n",
              " 'anyone',\n",
              " '.',\n",
              " 'We',\n",
              " 'have',\n",
              " 'not',\n",
              " 'grabbed',\n",
              " 'their',\n",
              " 'land',\n",
              " ',',\n",
              " 'their',\n",
              " 'culture',\n",
              " ',',\n",
              " 'their',\n",
              " 'history',\n",
              " 'tried',\n",
              " 'to',\n",
              " 'enforce',\n",
              " 'our',\n",
              " 'way',\n",
              " 'of',\n",
              " 'life',\n",
              " 'on',\n",
              " 'them',\n",
              " '.',\n",
              " 'Why',\n",
              " '?',\n",
              " 'Because',\n",
              " 'we',\n",
              " 'respect',\n",
              " 'the',\n",
              " 'freedom',\n",
              " 'of',\n",
              " 'others',\n",
              " '.',\n",
              " 'That',\n",
              " 'is',\n",
              " 'why',\n",
              " 'my',\n",
              " 'first',\n",
              " 'vision',\n",
              " 'is',\n",
              " 'that',\n",
              " 'of',\n",
              " 'FREEDOM',\n",
              " '.',\n",
              " 'That',\n",
              " 'is',\n",
              " 'why',\n",
              " 'my',\n",
              " 'first',\n",
              " 'vision',\n",
              " 'is',\n",
              " 'that',\n",
              " 'of',\n",
              " 'FREEDOM',\n",
              " '.',\n",
              " 'I',\n",
              " 'believe',\n",
              " 'that',\n",
              " 'India',\n",
              " 'got',\n",
              " 'its',\n",
              " 'first',\n",
              " 'vision',\n",
              " 'of',\n",
              " 'this',\n",
              " 'in',\n",
              " '1857',\n",
              " ',',\n",
              " 'when',\n",
              " 'we',\n",
              " 'started',\n",
              " 'the',\n",
              " 'war',\n",
              " 'of',\n",
              " 'independence',\n",
              " '.',\n",
              " 'It',\n",
              " 'is',\n",
              " 'this',\n",
              " 'freedom',\n",
              " 'that',\n",
              " 'we',\n",
              " 'must',\n",
              " 'protect',\n",
              " 'and',\n",
              " 'nurture',\n",
              " 'and',\n",
              " 'built',\n",
              " 'on',\n",
              " '.',\n",
              " 'If',\n",
              " 'we',\n",
              " 'are',\n",
              " 'not',\n",
              " 'free',\n",
              " ',',\n",
              " 'no',\n",
              " 'one',\n",
              " 'will',\n",
              " 'respect',\n",
              " 'us',\n",
              " '.',\n",
              " 'My',\n",
              " 'second',\n",
              " 'vision',\n",
              " 'for',\n",
              " 'India',\n",
              " 'is',\n",
              " 'DEVELOPMENT',\n",
              " '.',\n",
              " 'For',\n",
              " 'fifty',\n",
              " 'years',\n",
              " 'we',\n",
              " 'have',\n",
              " 'been',\n",
              " 'a',\n",
              " 'developing',\n",
              " 'nation',\n",
              " '.',\n",
              " 'It',\n",
              " 'is',\n",
              " 'time',\n",
              " 'we',\n",
              " 'see',\n",
              " 'ourselves',\n",
              " 'as',\n",
              " 'a',\n",
              " 'developed',\n",
              " 'nation',\n",
              " '.',\n",
              " 'We',\n",
              " 'are',\n",
              " 'among',\n",
              " 'top',\n",
              " '5',\n",
              " 'nations',\n",
              " 'of',\n",
              " 'the',\n",
              " 'world',\n",
              " 'in',\n",
              " 'terms',\n",
              " 'of',\n",
              " 'GDP',\n",
              " '.',\n",
              " 'We',\n",
              " 'have',\n",
              " '10',\n",
              " 'percent',\n",
              " 'growth',\n",
              " 'rate',\n",
              " 'in',\n",
              " 'most',\n",
              " 'areas',\n",
              " '.',\n",
              " 'Our',\n",
              " 'poverty',\n",
              " 'levels',\n",
              " 'are',\n",
              " 'falling',\n",
              " ',',\n",
              " 'our',\n",
              " 'achievements',\n",
              " 'are',\n",
              " 'being',\n",
              " 'globally',\n",
              " 'recognized',\n",
              " 'today',\n",
              " '.',\n",
              " 'Yet',\n",
              " 'we',\n",
              " 'lack',\n",
              " 'the',\n",
              " 'self-confidence',\n",
              " 'to',\n",
              " 'see',\n",
              " 'ourselves',\n",
              " 'as',\n",
              " 'a',\n",
              " 'developed',\n",
              " 'nation',\n",
              " ',',\n",
              " 'self',\n",
              " 'reliant',\n",
              " 'and',\n",
              " 'self',\n",
              " 'assured',\n",
              " '.',\n",
              " 'Is',\n",
              " \"n't\",\n",
              " 'this',\n",
              " 'right',\n",
              " '?',\n",
              " 'I',\n",
              " 'have',\n",
              " 'a',\n",
              " 'third',\n",
              " 'vision',\n",
              " '.',\n",
              " 'The',\n",
              " 'India',\n",
              " 'must',\n",
              " 'stand',\n",
              " 'up',\n",
              " 'to',\n",
              " 'the',\n",
              " 'world',\n",
              " '.',\n",
              " 'Because',\n",
              " 'I',\n",
              " 'believe',\n",
              " 'that',\n",
              " 'unless',\n",
              " 'India',\n",
              " 'stands',\n",
              " 'up',\n",
              " 'to',\n",
              " 'the',\n",
              " 'world',\n",
              " ',',\n",
              " 'no',\n",
              " 'one',\n",
              " 'will',\n",
              " 'respect',\n",
              " 'us',\n",
              " '.',\n",
              " 'Only',\n",
              " 'strength',\n",
              " 'respects',\n",
              " 'strength',\n",
              " '.',\n",
              " 'We',\n",
              " 'must',\n",
              " 'be',\n",
              " 'strong',\n",
              " 'not',\n",
              " 'only',\n",
              " 'as',\n",
              " 'a',\n",
              " 'military',\n",
              " 'power',\n",
              " 'but',\n",
              " 'also',\n",
              " 'as',\n",
              " 'an',\n",
              " 'economic',\n",
              " 'power',\n",
              " '.',\n",
              " 'Both',\n",
              " 'must',\n",
              " 'go',\n",
              " 'hand-in-hand',\n",
              " '.',\n",
              " 'My',\n",
              " 'good',\n",
              " 'fortune',\n",
              " 'was',\n",
              " 'to',\n",
              " 'have',\n",
              " 'work',\n",
              " 'with',\n",
              " 'three',\n",
              " 'great',\n",
              " 'minds',\n",
              " '.',\n",
              " 'Dr',\n",
              " 'Vikram',\n",
              " 'Sarabhai',\n",
              " 'of',\n",
              " 'the',\n",
              " 'Dept',\n",
              " '.',\n",
              " 'of',\n",
              " 'space',\n",
              " ',',\n",
              " 'Professor',\n",
              " 'Satish',\n",
              " 'Dhawan',\n",
              " ',',\n",
              " 'who',\n",
              " 'succeeded',\n",
              " 'him',\n",
              " ',',\n",
              " 'and',\n",
              " 'Dr.Brahm',\n",
              " 'Prakash',\n",
              " ',',\n",
              " 'father',\n",
              " 'of',\n",
              " 'nuclear',\n",
              " 'material',\n",
              " '.',\n",
              " 'I',\n",
              " 'was',\n",
              " 'lucky',\n",
              " 'to',\n",
              " 'have',\n",
              " 'worked',\n",
              " 'with',\n",
              " 'all',\n",
              " 'three',\n",
              " 'of',\n",
              " 'them',\n",
              " 'closely',\n",
              " 'and',\n",
              " 'consider',\n",
              " 'this',\n",
              " 'the',\n",
              " 'great',\n",
              " 'opportunity',\n",
              " 'of',\n",
              " 'my',\n",
              " 'life',\n",
              " '.',\n",
              " 'I',\n",
              " 'see',\n",
              " 'four',\n",
              " 'milestones',\n",
              " 'in',\n",
              " 'my',\n",
              " 'career']"
            ]
          },
          "metadata": {
            "tags": []
          },
          "execution_count": 7
        }
      ]
    },
    {
      "cell_type": "code",
      "metadata": {
        "colab": {
          "base_uri": "https://localhost:8080/"
        },
        "id": "Q3IHPQoRHoJD",
        "outputId": "e80f5494-58bf-42cc-e8c6-f79ed3fed5a8"
      },
      "source": [
        "len(words) # there are 403 words in this paragraph"
      ],
      "execution_count": 8,
      "outputs": [
        {
          "output_type": "execute_result",
          "data": {
            "text/plain": [
              "403"
            ]
          },
          "metadata": {
            "tags": []
          },
          "execution_count": 8
        }
      ]
    },
    {
      "cell_type": "markdown",
      "metadata": {
        "id": "GHt6J5TJKQJj"
      },
      "source": [
        "# STEMMING"
      ]
    },
    {
      "cell_type": "markdown",
      "metadata": {
        "id": "6muXc3c6c-eR"
      },
      "source": [
        "in stemming, words are converted into short words just to take out the meaning. most of the times those words doesnot have any kind of real world meaning."
      ]
    },
    {
      "cell_type": "code",
      "metadata": {
        "id": "DZJ6PlUAKU-I"
      },
      "source": [
        "from nltk.stem import PorterStemmer\n",
        "from nltk.corpus import stopwords"
      ],
      "execution_count": 9,
      "outputs": []
    },
    {
      "cell_type": "markdown",
      "metadata": {
        "id": "XNYA6a0SKlRN"
      },
      "source": [
        "we will be using the paragraph"
      ]
    },
    {
      "cell_type": "code",
      "metadata": {
        "id": "VW54H3zbKixp"
      },
      "source": [
        "stemmer = PorterStemmer() # making object of this class"
      ],
      "execution_count": 10,
      "outputs": []
    },
    {
      "cell_type": "code",
      "metadata": {
        "colab": {
          "base_uri": "https://localhost:8080/"
        },
        "id": "eIKxIGoYLpvR",
        "outputId": "fadf681a-3481-4154-d9a8-b147545b740b"
      },
      "source": [
        "# seeing all the stopwords in english\n",
        "nltk.download('stopwords')\n",
        "l = stopwords.words('english') "
      ],
      "execution_count": 11,
      "outputs": [
        {
          "output_type": "stream",
          "text": [
            "[nltk_data] Downloading package stopwords to /root/nltk_data...\n",
            "[nltk_data]   Unzipping corpora/stopwords.zip.\n"
          ],
          "name": "stdout"
        }
      ]
    },
    {
      "cell_type": "code",
      "metadata": {
        "colab": {
          "base_uri": "https://localhost:8080/"
        },
        "id": "39EBvrhjND5S",
        "outputId": "57f1889b-8457-4416-8a3b-e50366064a51"
      },
      "source": [
        "len(l) # we have total 179 stopwords."
      ],
      "execution_count": 12,
      "outputs": [
        {
          "output_type": "execute_result",
          "data": {
            "text/plain": [
              "179"
            ]
          },
          "metadata": {
            "tags": []
          },
          "execution_count": 12
        }
      ]
    },
    {
      "cell_type": "code",
      "metadata": {
        "id": "Sq8lQcpcNDhI"
      },
      "source": [
        "# stemming\n",
        "for i in range(len(sentences)):\n",
        "  words = nltk.word_tokenize(sentences[i])\n",
        "  words = [stemmer.stem(word) for word in words if word not in set(stopwords.words('english'))]\n",
        "  sentences[i] = ' '.join(words)"
      ],
      "execution_count": 13,
      "outputs": []
    },
    {
      "cell_type": "code",
      "metadata": {
        "colab": {
          "base_uri": "https://localhost:8080/"
        },
        "id": "tLvRz9cgPVXw",
        "outputId": "cf34f088-9dd9-4ebd-d960-543729da435c"
      },
      "source": [
        "sentences"
      ],
      "execution_count": 14,
      "outputs": [
        {
          "output_type": "execute_result",
          "data": {
            "text/plain": [
              "['I three vision india .',\n",
              " 'In 3000 year histori , peopl allov world come invad us , captur land , conquer mind .',\n",
              " 'from alexand onward .',\n",
              " 'the greek , portugues , british , french , dutch , came loot us , took .',\n",
              " 'yet done nation .',\n",
              " 'We conquer anyon .',\n",
              " 'We grab land , cultur , histori tri enforc way life .',\n",
              " 'whi ?',\n",
              " 'becaus respect freedom other .',\n",
              " 'that first vision freedom .',\n",
              " 'that first vision freedom .',\n",
              " 'I believ india got first vision 1857 , start war independ .',\n",
              " 'It freedom must protect nurtur built .',\n",
              " 'If free , one respect us .',\n",
              " 'My second vision india develop .',\n",
              " 'for fifti year develop nation .',\n",
              " 'It time see develop nation .',\n",
              " 'We among top 5 nation world term gdp .',\n",
              " 'We 10 percent growth rate area .',\n",
              " 'our poverti level fall , achiev global recogn today .',\n",
              " 'yet lack self-confid see develop nation , self reliant self assur .',\n",
              " \"Is n't right ?\",\n",
              " 'I third vision .',\n",
              " 'the india must stand world .',\n",
              " 'becaus I believ unless india stand world , one respect us .',\n",
              " 'onli strength respect strength .',\n",
              " 'We must strong militari power also econom power .',\n",
              " 'both must go hand-in-hand .',\n",
              " 'My good fortun work three great mind .',\n",
              " 'Dr vikram sarabhai dept .',\n",
              " 'space , professor satish dhawan , succeed , dr.brahm prakash , father nuclear materi .',\n",
              " 'I lucki work three close consid great opportun life .',\n",
              " 'I see four mileston career']"
            ]
          },
          "metadata": {
            "tags": []
          },
          "execution_count": 14
        }
      ]
    },
    {
      "cell_type": "markdown",
      "metadata": {
        "id": "nhKOChqdRGa9"
      },
      "source": [
        "# LEMMATIZATION"
      ]
    },
    {
      "cell_type": "markdown",
      "metadata": {
        "id": "s0P9nvTlc1WZ"
      },
      "source": [
        "in lemmatization, words are converted into meaningful words"
      ]
    },
    {
      "cell_type": "code",
      "metadata": {
        "id": "lvsTxt0VRJTK"
      },
      "source": [
        "from nltk.stem import WordNetLemmatizer\n",
        "# we have already imported stop words"
      ],
      "execution_count": 15,
      "outputs": []
    },
    {
      "cell_type": "code",
      "metadata": {
        "id": "dBRfHzVjRkdh"
      },
      "source": [
        "lemmatizer = WordNetLemmatizer()"
      ],
      "execution_count": 16,
      "outputs": []
    },
    {
      "cell_type": "code",
      "metadata": {
        "colab": {
          "base_uri": "https://localhost:8080/"
        },
        "id": "99r9kyN5TQPC",
        "outputId": "b640d5e8-39a7-4bc9-ea4d-d4961cd30e7f"
      },
      "source": [
        "nltk.download('wordnet')"
      ],
      "execution_count": 17,
      "outputs": [
        {
          "output_type": "stream",
          "text": [
            "[nltk_data] Downloading package wordnet to /root/nltk_data...\n",
            "[nltk_data]   Unzipping corpora/wordnet.zip.\n"
          ],
          "name": "stdout"
        },
        {
          "output_type": "execute_result",
          "data": {
            "text/plain": [
              "True"
            ]
          },
          "metadata": {
            "tags": []
          },
          "execution_count": 17
        }
      ]
    },
    {
      "cell_type": "code",
      "metadata": {
        "id": "NOL63BhCRtrG"
      },
      "source": [
        "# lemmatization\n",
        "sentences2 = nltk.sent_tokenize(paragraph)\n",
        "for i in range(len(sentences2)):\n",
        "  words = nltk.word_tokenize(sentences2[i])\n",
        "  words = [lemmatizer.lemmatize(word) for word in words if word not in set(stopwords.words('english'))]\n",
        "  sentences2[i] = ' '.join(words)"
      ],
      "execution_count": 18,
      "outputs": []
    },
    {
      "cell_type": "code",
      "metadata": {
        "colab": {
          "base_uri": "https://localhost:8080/"
        },
        "id": "B4sB_To-TbwN",
        "outputId": "80692138-5f02-4cbe-cdf9-a27ac659d8ee"
      },
      "source": [
        "sentences2"
      ],
      "execution_count": 19,
      "outputs": [
        {
          "output_type": "execute_result",
          "data": {
            "text/plain": [
              "['I three vision India .',\n",
              " 'In 3000 year history , people allover world come invaded u , captured land , conquered mind .',\n",
              " 'From Alexander onwards .',\n",
              " 'The Greeks , Portuguese , British , French , Dutch , came looted u , took .',\n",
              " 'Yet done nation .',\n",
              " 'We conquered anyone .',\n",
              " 'We grabbed land , culture , history tried enforce way life .',\n",
              " 'Why ?',\n",
              " 'Because respect freedom others .',\n",
              " 'That first vision FREEDOM .',\n",
              " 'That first vision FREEDOM .',\n",
              " 'I believe India got first vision 1857 , started war independence .',\n",
              " 'It freedom must protect nurture built .',\n",
              " 'If free , one respect u .',\n",
              " 'My second vision India DEVELOPMENT .',\n",
              " 'For fifty year developing nation .',\n",
              " 'It time see developed nation .',\n",
              " 'We among top 5 nation world term GDP .',\n",
              " 'We 10 percent growth rate area .',\n",
              " 'Our poverty level falling , achievement globally recognized today .',\n",
              " 'Yet lack self-confidence see developed nation , self reliant self assured .',\n",
              " \"Is n't right ?\",\n",
              " 'I third vision .',\n",
              " 'The India must stand world .',\n",
              " 'Because I believe unless India stand world , one respect u .',\n",
              " 'Only strength respect strength .',\n",
              " 'We must strong military power also economic power .',\n",
              " 'Both must go hand-in-hand .',\n",
              " 'My good fortune work three great mind .',\n",
              " 'Dr Vikram Sarabhai Dept .',\n",
              " 'space , Professor Satish Dhawan , succeeded , Dr.Brahm Prakash , father nuclear material .',\n",
              " 'I lucky worked three closely consider great opportunity life .',\n",
              " 'I see four milestone career']"
            ]
          },
          "metadata": {
            "tags": []
          },
          "execution_count": 19
        }
      ]
    },
    {
      "cell_type": "code",
      "metadata": {
        "colab": {
          "base_uri": "https://localhost:8080/"
        },
        "id": "X9DE7fkpjSxK",
        "outputId": "759ac074-4d46-4bbe-c22f-a084dfb847f8"
      },
      "source": [
        "len(sentences2)"
      ],
      "execution_count": 24,
      "outputs": [
        {
          "output_type": "execute_result",
          "data": {
            "text/plain": [
              "33"
            ]
          },
          "metadata": {
            "tags": []
          },
          "execution_count": 24
        }
      ]
    },
    {
      "cell_type": "markdown",
      "metadata": {
        "id": "EG8HpOG4fSLM"
      },
      "source": [
        "# BAG OF WORDS"
      ]
    },
    {
      "cell_type": "markdown",
      "metadata": {
        "id": "KzoTfiRafbcs"
      },
      "source": [
        "CLEANING THE TEXTS"
      ]
    },
    {
      "cell_type": "code",
      "metadata": {
        "id": "1MxfPz29fU7a"
      },
      "source": [
        "# lowering the texts\n",
        "import re\n",
        "from nltk.corpus import stopwords\n",
        "from nltk.stem.porter import PorterStemmer\n",
        "from nltk.stem import WordNetLemmatizer"
      ],
      "execution_count": 20,
      "outputs": []
    },
    {
      "cell_type": "code",
      "metadata": {
        "id": "X-EJjwtJf7md"
      },
      "source": [
        "ps = PorterStemmer()"
      ],
      "execution_count": 21,
      "outputs": []
    },
    {
      "cell_type": "code",
      "metadata": {
        "id": "Zv5l1wCRf_eV"
      },
      "source": [
        "wordnet = WordNetLemmatizer()"
      ],
      "execution_count": 22,
      "outputs": []
    },
    {
      "cell_type": "code",
      "metadata": {
        "id": "V-e4PaALgEsJ"
      },
      "source": [
        "sentences3 = nltk.sent_tokenize(paragraph)"
      ],
      "execution_count": 23,
      "outputs": []
    },
    {
      "cell_type": "code",
      "metadata": {
        "id": "uE3QoZsGgQDM"
      },
      "source": [
        "corpus = []\n",
        "for i in range(len(sentences3)):\n",
        "  review = re.sub('[^a-zA-Z]', ' ', sentences3[i]) # will replace every thing other than our letters with spaces.\n",
        "  review = review.lower() # will lower the words\n",
        "  review = review.split() # instead of word tokenize, here we have just split the words.\n",
        "  review = [wordnet.lemmatize(word) for word in review if not word in set(stopwords.words('english'))] # lemmatization\n",
        "  review = \" \".join(review)\n",
        "  corpus.append(review)"
      ],
      "execution_count": 28,
      "outputs": []
    },
    {
      "cell_type": "code",
      "metadata": {
        "colab": {
          "base_uri": "https://localhost:8080/"
        },
        "id": "rjuHr_-BjYnB",
        "outputId": "1470335d-0334-437b-b813-35ad645ce672"
      },
      "source": [
        "corpus"
      ],
      "execution_count": 29,
      "outputs": [
        {
          "output_type": "execute_result",
          "data": {
            "text/plain": [
              "['three vision india',\n",
              " 'year history people allover world come invaded u captured land conquered mind',\n",
              " 'alexander onwards',\n",
              " 'greek portuguese british french dutch came looted u took',\n",
              " 'yet done nation',\n",
              " 'conquered anyone',\n",
              " 'grabbed land culture history tried enforce way life',\n",
              " '',\n",
              " 'respect freedom others',\n",
              " 'first vision freedom',\n",
              " 'first vision freedom',\n",
              " 'believe india got first vision started war independence',\n",
              " 'freedom must protect nurture built',\n",
              " 'free one respect u',\n",
              " 'second vision india development',\n",
              " 'fifty year developing nation',\n",
              " 'time see developed nation',\n",
              " 'among top nation world term gdp',\n",
              " 'percent growth rate area',\n",
              " 'poverty level falling achievement globally recognized today',\n",
              " 'yet lack self confidence see developed nation self reliant self assured',\n",
              " 'right',\n",
              " 'third vision',\n",
              " 'india must stand world',\n",
              " 'believe unless india stand world one respect u',\n",
              " 'strength respect strength',\n",
              " 'must strong military power also economic power',\n",
              " 'must go hand hand',\n",
              " 'good fortune work three great mind',\n",
              " 'dr vikram sarabhai dept',\n",
              " 'space professor satish dhawan succeeded dr brahm prakash father nuclear material',\n",
              " 'lucky worked three closely consider great opportunity life',\n",
              " 'see four milestone career']"
            ]
          },
          "metadata": {
            "tags": []
          },
          "execution_count": 29
        }
      ]
    },
    {
      "cell_type": "code",
      "metadata": {
        "colab": {
          "base_uri": "https://localhost:8080/"
        },
        "id": "m43O0C5Jjb5C",
        "outputId": "0e8cbd50-fd35-48d0-b199-590019ac4ac1"
      },
      "source": [
        "len(corpus)"
      ],
      "execution_count": 27,
      "outputs": [
        {
          "output_type": "execute_result",
          "data": {
            "text/plain": [
              "33"
            ]
          },
          "metadata": {
            "tags": []
          },
          "execution_count": 27
        }
      ]
    },
    {
      "cell_type": "code",
      "metadata": {
        "id": "2ymxWXSSk2Tz"
      },
      "source": [
        "# creating the bag of words model\n",
        "from sklearn.feature_extraction.text import CountVectorizer\n",
        "cv = CountVectorizer()\n",
        "X = cv.fit_transform(corpus).toarray()"
      ],
      "execution_count": 32,
      "outputs": []
    },
    {
      "cell_type": "code",
      "metadata": {
        "colab": {
          "base_uri": "https://localhost:8080/"
        },
        "id": "3C4G4LVklRgU",
        "outputId": "4b9570c5-442d-49b6-e6bf-17c2e1187396"
      },
      "source": [
        "X"
      ],
      "execution_count": 33,
      "outputs": [
        {
          "output_type": "execute_result",
          "data": {
            "text/plain": [
              "array([[0, 0, 0, ..., 0, 0, 0],\n",
              "       [0, 0, 1, ..., 1, 1, 0],\n",
              "       [0, 1, 0, ..., 0, 0, 0],\n",
              "       ...,\n",
              "       [0, 0, 0, ..., 0, 0, 0],\n",
              "       [0, 0, 0, ..., 0, 0, 0],\n",
              "       [0, 0, 0, ..., 0, 0, 0]])"
            ]
          },
          "metadata": {
            "tags": []
          },
          "execution_count": 33
        }
      ]
    },
    {
      "cell_type": "markdown",
      "metadata": {
        "id": "KSavlJsCpvCa"
      },
      "source": [
        "# TF-IDF"
      ]
    },
    {
      "cell_type": "markdown",
      "metadata": {
        "id": "-DkR6YBCpya9"
      },
      "source": [
        "bag of words have certain disadvantages and that's why we use TF-IDF"
      ]
    },
    {
      "cell_type": "code",
      "metadata": {
        "id": "XkbNj-RBleqt"
      },
      "source": [
        "# importing the libraries\n",
        "import re\n",
        "from nltk.corpus import stopwords\n",
        "from nltk.stem.porter import PorterStemmer\n",
        "from nltk.stem import WordNetLemmatizer"
      ],
      "execution_count": 34,
      "outputs": []
    },
    {
      "cell_type": "code",
      "metadata": {
        "id": "xDAj8i-Mq0_I"
      },
      "source": [
        "ps = PorterStemmer()\n",
        "wordnet = WordNetLemmatizer()\n",
        "sentences4 = nltk.sent_tokenize(paragraph) # converting paragraphs into words"
      ],
      "execution_count": 35,
      "outputs": []
    },
    {
      "cell_type": "code",
      "metadata": {
        "id": "A9l6Xxg8rKRS"
      },
      "source": [
        "# preprocessig the texts\n",
        "corpus = []\n",
        "for i in range(len(sentences4)):\n",
        "  review = re.sub('[^a-zA-Z]', ' ', sentences4[i])\n",
        "  review = review.lower()\n",
        "  review = review.split()\n",
        "  review = [wordnet.lemmatize(word) for word in review if word not in set(stopwords.words('english'))]\n",
        "  review = \" \".join(review)\n",
        "  corpus.append(review)"
      ],
      "execution_count": 36,
      "outputs": []
    },
    {
      "cell_type": "code",
      "metadata": {
        "colab": {
          "base_uri": "https://localhost:8080/"
        },
        "id": "TcCNbGB4sIZl",
        "outputId": "090df867-55a6-4b33-bb49-29ce85fd3ac4"
      },
      "source": [
        "corpus"
      ],
      "execution_count": 37,
      "outputs": [
        {
          "output_type": "execute_result",
          "data": {
            "text/plain": [
              "['three vision india',\n",
              " 'year history people allover world come invaded u captured land conquered mind',\n",
              " 'alexander onwards',\n",
              " 'greek portuguese british french dutch came looted u took',\n",
              " 'yet done nation',\n",
              " 'conquered anyone',\n",
              " 'grabbed land culture history tried enforce way life',\n",
              " '',\n",
              " 'respect freedom others',\n",
              " 'first vision freedom',\n",
              " 'first vision freedom',\n",
              " 'believe india got first vision started war independence',\n",
              " 'freedom must protect nurture built',\n",
              " 'free one respect u',\n",
              " 'second vision india development',\n",
              " 'fifty year developing nation',\n",
              " 'time see developed nation',\n",
              " 'among top nation world term gdp',\n",
              " 'percent growth rate area',\n",
              " 'poverty level falling achievement globally recognized today',\n",
              " 'yet lack self confidence see developed nation self reliant self assured',\n",
              " 'right',\n",
              " 'third vision',\n",
              " 'india must stand world',\n",
              " 'believe unless india stand world one respect u',\n",
              " 'strength respect strength',\n",
              " 'must strong military power also economic power',\n",
              " 'must go hand hand',\n",
              " 'good fortune work three great mind',\n",
              " 'dr vikram sarabhai dept',\n",
              " 'space professor satish dhawan succeeded dr brahm prakash father nuclear material',\n",
              " 'lucky worked three closely consider great opportunity life',\n",
              " 'see four milestone career']"
            ]
          },
          "metadata": {
            "tags": []
          },
          "execution_count": 37
        }
      ]
    },
    {
      "cell_type": "code",
      "metadata": {
        "id": "c0Sm_VU9sjp8"
      },
      "source": [
        "# creating the tf-idf model\n",
        "from sklearn.feature_extraction.text import TfidfVectorizer\n",
        "cv = TfidfVectorizer()\n",
        "X = cv.fit_transform(corpus).toarray()"
      ],
      "execution_count": 38,
      "outputs": []
    },
    {
      "cell_type": "code",
      "metadata": {
        "colab": {
          "base_uri": "https://localhost:8080/"
        },
        "id": "oPvzGdqVs48t",
        "outputId": "1f66e36e-a30c-42ea-9d08-e79510ea2270"
      },
      "source": [
        "X"
      ],
      "execution_count": 39,
      "outputs": [
        {
          "output_type": "execute_result",
          "data": {
            "text/plain": [
              "array([[0.        , 0.        , 0.        , ..., 0.        , 0.        ,\n",
              "        0.        ],\n",
              "       [0.        , 0.        , 0.32313196, ..., 0.24589054, 0.28895209,\n",
              "        0.        ],\n",
              "       [0.        , 0.70710678, 0.        , ..., 0.        , 0.        ,\n",
              "        0.        ],\n",
              "       ...,\n",
              "       [0.        , 0.        , 0.        , ..., 0.        , 0.        ,\n",
              "        0.        ],\n",
              "       [0.        , 0.        , 0.        , ..., 0.        , 0.        ,\n",
              "        0.        ],\n",
              "       [0.        , 0.        , 0.        , ..., 0.        , 0.        ,\n",
              "        0.        ]])"
            ]
          },
          "metadata": {
            "tags": []
          },
          "execution_count": 39
        }
      ]
    }
  ]
}