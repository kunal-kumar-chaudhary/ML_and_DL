{
  "nbformat": 4,
  "nbformat_minor": 0,
  "metadata": {
    "colab": {
      "name": "Introduction_to_NLP_in_Tensorflow.ipynb",
      "provenance": [],
      "collapsed_sections": [],
      "authorship_tag": "ABX9TyMhmJFJfaUTxrWnjFKajIEQ",
      "include_colab_link": true
    },
    "kernelspec": {
      "name": "python3",
      "display_name": "Python 3"
    },
    "language_info": {
      "name": "python"
    }
  },
  "cells": [
    {
      "cell_type": "markdown",
      "metadata": {
        "id": "view-in-github",
        "colab_type": "text"
      },
      "source": [
        "<a href=\"https://colab.research.google.com/github/1901010019/1901010019.github.io/blob/master/Introduction_to_NLP_in_Tensorflow.ipynb\" target=\"_parent\"><img src=\"https://colab.research.google.com/assets/colab-badge.svg\" alt=\"Open In Colab\"/></a>"
      ]
    },
    {
      "cell_type": "code",
      "metadata": {
        "colab": {
          "base_uri": "https://localhost:8080/"
        },
        "id": "hmXLGss-MXgG",
        "outputId": "1e2bf0bb-33ed-4c92-9551-3327e2b6f81f"
      },
      "source": [
        "# checking if we are using GPU\n",
        "!nvidia-smi -L"
      ],
      "execution_count": null,
      "outputs": [
        {
          "output_type": "stream",
          "text": [
            "GPU 0: Tesla T4 (UUID: GPU-d2655200-f459-e75d-0604-aedb9ec71d71)\n"
          ],
          "name": "stdout"
        }
      ]
    },
    {
      "cell_type": "code",
      "metadata": {
        "colab": {
          "base_uri": "https://localhost:8080/"
        },
        "id": "IA48YHTRKl8H",
        "outputId": "b4c050f5-5c56-4b3b-d807-ea8a16201383"
      },
      "source": [
        "!wget https://raw.githubusercontent.com/mrdbourke/tensorflow-deep-learning/main/extras/helper_functions.py"
      ],
      "execution_count": null,
      "outputs": [
        {
          "output_type": "stream",
          "text": [
            "--2021-08-06 15:39:16--  https://raw.githubusercontent.com/mrdbourke/tensorflow-deep-learning/main/extras/helper_functions.py\n",
            "Resolving raw.githubusercontent.com (raw.githubusercontent.com)... 185.199.110.133, 185.199.109.133, 185.199.111.133, ...\n",
            "Connecting to raw.githubusercontent.com (raw.githubusercontent.com)|185.199.110.133|:443... connected.\n",
            "HTTP request sent, awaiting response... 200 OK\n",
            "Length: 10246 (10K) [text/plain]\n",
            "Saving to: ‘helper_functions.py.1’\n",
            "\n",
            "\rhelper_functions.py   0%[                    ]       0  --.-KB/s               \rhelper_functions.py 100%[===================>]  10.01K  --.-KB/s    in 0s      \n",
            "\n",
            "2021-08-06 15:39:16 (71.9 MB/s) - ‘helper_functions.py.1’ saved [10246/10246]\n",
            "\n"
          ],
          "name": "stdout"
        }
      ]
    },
    {
      "cell_type": "code",
      "metadata": {
        "id": "3dR8N-fLMKpX"
      },
      "source": [
        "from helper_functions import unzip_data, create_tensorboard_callback, plot_loss_curves, compare_historys"
      ],
      "execution_count": null,
      "outputs": []
    },
    {
      "cell_type": "markdown",
      "metadata": {
        "id": "eGypRQSeNrVI"
      },
      "source": [
        "## GETTING THE DATASET"
      ]
    },
    {
      "cell_type": "markdown",
      "metadata": {
        "id": "mW1jzvCmNhoE"
      },
      "source": [
        "we will use kaggle dataset for our this experimentation.\n",
        "https://www.kaggle.com/c/nlp-getting-started/data"
      ]
    },
    {
      "cell_type": "code",
      "metadata": {
        "colab": {
          "base_uri": "https://localhost:8080/"
        },
        "id": "e6ii2LkAMh1A",
        "outputId": "889bcb28-dd11-4536-ca3e-a63ee72c93bd"
      },
      "source": [
        "# getting a text dataset \n",
        "!wget https://storage.googleapis.com/ztm_tf_course/nlp_getting_started.zip"
      ],
      "execution_count": null,
      "outputs": [
        {
          "output_type": "stream",
          "text": [
            "--2021-08-06 15:39:18--  https://storage.googleapis.com/ztm_tf_course/nlp_getting_started.zip\n",
            "Resolving storage.googleapis.com (storage.googleapis.com)... 142.250.101.128, 142.250.141.128, 142.251.2.128, ...\n",
            "Connecting to storage.googleapis.com (storage.googleapis.com)|142.250.101.128|:443... connected.\n",
            "HTTP request sent, awaiting response... 200 OK\n",
            "Length: 607343 (593K) [application/zip]\n",
            "Saving to: ‘nlp_getting_started.zip.1’\n",
            "\n",
            "\r          nlp_getti   0%[                    ]       0  --.-KB/s               \rnlp_getting_started 100%[===================>] 593.11K  --.-KB/s    in 0.004s  \n",
            "\n",
            "2021-08-06 15:39:18 (151 MB/s) - ‘nlp_getting_started.zip.1’ saved [607343/607343]\n",
            "\n"
          ],
          "name": "stdout"
        }
      ]
    },
    {
      "cell_type": "code",
      "metadata": {
        "id": "YRFnRh1_Np24"
      },
      "source": [
        "unzip_data('nlp_getting_started.zip') # unzipped the dataset"
      ],
      "execution_count": null,
      "outputs": []
    },
    {
      "cell_type": "markdown",
      "metadata": {
        "id": "n3UpOLbzOaEq"
      },
      "source": [
        "## VISUALIZING OUR TEXT DATASET"
      ]
    },
    {
      "cell_type": "code",
      "metadata": {
        "id": "9kEHcuyvN_dW"
      },
      "source": [
        "# reading dataset using pandas library\n",
        "import pandas as pd\n",
        "train_df = pd.read_csv('train.csv')\n",
        "test_df = pd.read_csv('test.csv')"
      ],
      "execution_count": null,
      "outputs": []
    },
    {
      "cell_type": "code",
      "metadata": {
        "colab": {
          "base_uri": "https://localhost:8080/",
          "height": 206
        },
        "id": "yjHo8kETPZVF",
        "outputId": "86d359b1-a567-4819-da1d-24849247f1a3"
      },
      "source": [
        "train_df.head()"
      ],
      "execution_count": null,
      "outputs": [
        {
          "output_type": "execute_result",
          "data": {
            "text/html": [
              "<div>\n",
              "<style scoped>\n",
              "    .dataframe tbody tr th:only-of-type {\n",
              "        vertical-align: middle;\n",
              "    }\n",
              "\n",
              "    .dataframe tbody tr th {\n",
              "        vertical-align: top;\n",
              "    }\n",
              "\n",
              "    .dataframe thead th {\n",
              "        text-align: right;\n",
              "    }\n",
              "</style>\n",
              "<table border=\"1\" class=\"dataframe\">\n",
              "  <thead>\n",
              "    <tr style=\"text-align: right;\">\n",
              "      <th></th>\n",
              "      <th>id</th>\n",
              "      <th>keyword</th>\n",
              "      <th>location</th>\n",
              "      <th>text</th>\n",
              "      <th>target</th>\n",
              "    </tr>\n",
              "  </thead>\n",
              "  <tbody>\n",
              "    <tr>\n",
              "      <th>0</th>\n",
              "      <td>1</td>\n",
              "      <td>NaN</td>\n",
              "      <td>NaN</td>\n",
              "      <td>Our Deeds are the Reason of this #earthquake M...</td>\n",
              "      <td>1</td>\n",
              "    </tr>\n",
              "    <tr>\n",
              "      <th>1</th>\n",
              "      <td>4</td>\n",
              "      <td>NaN</td>\n",
              "      <td>NaN</td>\n",
              "      <td>Forest fire near La Ronge Sask. Canada</td>\n",
              "      <td>1</td>\n",
              "    </tr>\n",
              "    <tr>\n",
              "      <th>2</th>\n",
              "      <td>5</td>\n",
              "      <td>NaN</td>\n",
              "      <td>NaN</td>\n",
              "      <td>All residents asked to 'shelter in place' are ...</td>\n",
              "      <td>1</td>\n",
              "    </tr>\n",
              "    <tr>\n",
              "      <th>3</th>\n",
              "      <td>6</td>\n",
              "      <td>NaN</td>\n",
              "      <td>NaN</td>\n",
              "      <td>13,000 people receive #wildfires evacuation or...</td>\n",
              "      <td>1</td>\n",
              "    </tr>\n",
              "    <tr>\n",
              "      <th>4</th>\n",
              "      <td>7</td>\n",
              "      <td>NaN</td>\n",
              "      <td>NaN</td>\n",
              "      <td>Just got sent this photo from Ruby #Alaska as ...</td>\n",
              "      <td>1</td>\n",
              "    </tr>\n",
              "  </tbody>\n",
              "</table>\n",
              "</div>"
            ],
            "text/plain": [
              "   id keyword  ...                                               text target\n",
              "0   1     NaN  ...  Our Deeds are the Reason of this #earthquake M...      1\n",
              "1   4     NaN  ...             Forest fire near La Ronge Sask. Canada      1\n",
              "2   5     NaN  ...  All residents asked to 'shelter in place' are ...      1\n",
              "3   6     NaN  ...  13,000 people receive #wildfires evacuation or...      1\n",
              "4   7     NaN  ...  Just got sent this photo from Ruby #Alaska as ...      1\n",
              "\n",
              "[5 rows x 5 columns]"
            ]
          },
          "metadata": {
            "tags": []
          },
          "execution_count": 7
        }
      ]
    },
    {
      "cell_type": "code",
      "metadata": {
        "colab": {
          "base_uri": "https://localhost:8080/",
          "height": 206
        },
        "id": "cP5FzOWHQNcP",
        "outputId": "5a24f44f-7521-4b70-fc88-d3115ba69530"
      },
      "source": [
        "# shuffling training dataset so that our model doesnot learn any unwanted patterns.\n",
        "train_df_shuffled = train_df.sample(frac=1, random_state=42)\n",
        "train_df_shuffled.head()"
      ],
      "execution_count": null,
      "outputs": [
        {
          "output_type": "execute_result",
          "data": {
            "text/html": [
              "<div>\n",
              "<style scoped>\n",
              "    .dataframe tbody tr th:only-of-type {\n",
              "        vertical-align: middle;\n",
              "    }\n",
              "\n",
              "    .dataframe tbody tr th {\n",
              "        vertical-align: top;\n",
              "    }\n",
              "\n",
              "    .dataframe thead th {\n",
              "        text-align: right;\n",
              "    }\n",
              "</style>\n",
              "<table border=\"1\" class=\"dataframe\">\n",
              "  <thead>\n",
              "    <tr style=\"text-align: right;\">\n",
              "      <th></th>\n",
              "      <th>id</th>\n",
              "      <th>keyword</th>\n",
              "      <th>location</th>\n",
              "      <th>text</th>\n",
              "      <th>target</th>\n",
              "    </tr>\n",
              "  </thead>\n",
              "  <tbody>\n",
              "    <tr>\n",
              "      <th>2644</th>\n",
              "      <td>3796</td>\n",
              "      <td>destruction</td>\n",
              "      <td>NaN</td>\n",
              "      <td>So you have a new weapon that can cause un-ima...</td>\n",
              "      <td>1</td>\n",
              "    </tr>\n",
              "    <tr>\n",
              "      <th>2227</th>\n",
              "      <td>3185</td>\n",
              "      <td>deluge</td>\n",
              "      <td>NaN</td>\n",
              "      <td>The f$&amp;amp;@ing things I do for #GISHWHES Just...</td>\n",
              "      <td>0</td>\n",
              "    </tr>\n",
              "    <tr>\n",
              "      <th>5448</th>\n",
              "      <td>7769</td>\n",
              "      <td>police</td>\n",
              "      <td>UK</td>\n",
              "      <td>DT @georgegalloway: RT @Galloway4Mayor: ÛÏThe...</td>\n",
              "      <td>1</td>\n",
              "    </tr>\n",
              "    <tr>\n",
              "      <th>132</th>\n",
              "      <td>191</td>\n",
              "      <td>aftershock</td>\n",
              "      <td>NaN</td>\n",
              "      <td>Aftershock back to school kick off was great. ...</td>\n",
              "      <td>0</td>\n",
              "    </tr>\n",
              "    <tr>\n",
              "      <th>6845</th>\n",
              "      <td>9810</td>\n",
              "      <td>trauma</td>\n",
              "      <td>Montgomery County, MD</td>\n",
              "      <td>in response to trauma Children of Addicts deve...</td>\n",
              "      <td>0</td>\n",
              "    </tr>\n",
              "  </tbody>\n",
              "</table>\n",
              "</div>"
            ],
            "text/plain": [
              "        id  ... target\n",
              "2644  3796  ...      1\n",
              "2227  3185  ...      0\n",
              "5448  7769  ...      1\n",
              "132    191  ...      0\n",
              "6845  9810  ...      0\n",
              "\n",
              "[5 rows x 5 columns]"
            ]
          },
          "metadata": {
            "tags": []
          },
          "execution_count": 8
        }
      ]
    },
    {
      "cell_type": "code",
      "metadata": {
        "colab": {
          "base_uri": "https://localhost:8080/"
        },
        "id": "aXhT86JXQ2sb",
        "outputId": "dde4558d-f2ad-4f3d-9181-2a748d43b2e3"
      },
      "source": [
        "# how many examples of each class?\n",
        "train_df_shuffled.target.value_counts()"
      ],
      "execution_count": null,
      "outputs": [
        {
          "output_type": "execute_result",
          "data": {
            "text/plain": [
              "0    4342\n",
              "1    3271\n",
              "Name: target, dtype: int64"
            ]
          },
          "metadata": {
            "tags": []
          },
          "execution_count": 9
        }
      ]
    },
    {
      "cell_type": "code",
      "metadata": {
        "colab": {
          "base_uri": "https://localhost:8080/"
        },
        "id": "Utf0QoIiRkOx",
        "outputId": "aea2b2bc-8847-4780-fc1b-82ae52dc357c"
      },
      "source": [
        "# how many total samples\n",
        "len(train_df), len(test_df)"
      ],
      "execution_count": null,
      "outputs": [
        {
          "output_type": "execute_result",
          "data": {
            "text/plain": [
              "(7613, 3263)"
            ]
          },
          "metadata": {
            "tags": []
          },
          "execution_count": 10
        }
      ]
    },
    {
      "cell_type": "code",
      "metadata": {
        "colab": {
          "base_uri": "https://localhost:8080/"
        },
        "id": "XfN199Q1RrfA",
        "outputId": "f20bf365-941f-4bf1-b0a8-6ad8f9e37951"
      },
      "source": [
        "# visualize the random training examples\n",
        "import random\n",
        "random_index = random.randint(0, len(train_df)-5) \n",
        "for row in train_df_shuffled[['text','target']][random_index : random_index+5].itertuples():\n",
        "  _, text, target = row\n",
        "  print(f\"Target: {target}\", \"(real disaster)\" if target > 0 else \"(not real disaster)\" )\n",
        "  print(f\"text:\\n{text}\\n\")\n",
        "  print(\"-----\\n\")"
      ],
      "execution_count": null,
      "outputs": [
        {
          "output_type": "stream",
          "text": [
            "Target: 1 (real disaster)\n",
            "text:\n",
            "I Pledge Allegiance To The P.O.P.E. And The Burning Buildings of Epic City. ??????\n",
            "\n",
            "-----\n",
            "\n",
            "Target: 0 (not real disaster)\n",
            "text:\n",
            "@charlieputh that song have a Cool beat like Nothing But Trouble\n",
            "\n",
            "-----\n",
            "\n",
            "Target: 0 (not real disaster)\n",
            "text:\n",
            "IS THE UPDATE RLY LIFE NOW IS IT IS It/Screams \n",
            "vibrates i cant handle\n",
            "\n",
            "-----\n",
            "\n",
            "Target: 0 (not real disaster)\n",
            "text:\n",
            "Thank you @FedEx for no longer shipping live microbes for the Department of Defense\n",
            "\n",
            "http://t.co/zAHNEwJrI8\n",
            "\n",
            "-----\n",
            "\n",
            "Target: 0 (not real disaster)\n",
            "text:\n",
            "I want to smoke ??\n",
            "\n",
            "-----\n",
            "\n"
          ],
          "name": "stdout"
        }
      ]
    },
    {
      "cell_type": "markdown",
      "metadata": {
        "id": "b7k3Wi9LVGTb"
      },
      "source": [
        "### split data into training and validation sets\n"
      ]
    },
    {
      "cell_type": "code",
      "metadata": {
        "id": "GQkCdWCgU82m"
      },
      "source": [
        "from sklearn.model_selection import train_test_split\n",
        "train_sentences, val_sentences, train_labels, val_labels = train_test_split(train_df_shuffled['text'].to_numpy(),\n",
        "                                                                            train_df_shuffled['target'].to_numpy(),\n",
        "                                                                            test_size=0.1,\n",
        "                                                                            random_state=42)"
      ],
      "execution_count": null,
      "outputs": []
    },
    {
      "cell_type": "code",
      "metadata": {
        "colab": {
          "base_uri": "https://localhost:8080/"
        },
        "id": "n5bOrSRXWrTr",
        "outputId": "b77755c9-da39-4c20-92b4-57b01678a186"
      },
      "source": [
        "len(train_sentences), len(val_sentences), len(train_labels), len(val_labels)"
      ],
      "execution_count": null,
      "outputs": [
        {
          "output_type": "execute_result",
          "data": {
            "text/plain": [
              "(6851, 762, 6851, 762)"
            ]
          },
          "metadata": {
            "tags": []
          },
          "execution_count": 13
        }
      ]
    },
    {
      "cell_type": "code",
      "metadata": {
        "colab": {
          "base_uri": "https://localhost:8080/"
        },
        "id": "-AclI0foWzHG",
        "outputId": "4e20c200-7f03-48b7-8725-2a57ddb7117d"
      },
      "source": [
        "train_sentences"
      ],
      "execution_count": null,
      "outputs": [
        {
          "output_type": "execute_result",
          "data": {
            "text/plain": [
              "array(['@mogacola @zamtriossu i screamed after hitting tweet',\n",
              "       'Imagine getting flattened by Kurt Zouma',\n",
              "       '@Gurmeetramrahim #MSGDoing111WelfareWorks Green S welfare force ke appx 65000 members har time disaster victim ki help ke liye tyar hai....',\n",
              "       ...,\n",
              "       'Near them on the sand half sunk a shattered visage lies... http://t.co/0kCCG1BT06',\n",
              "       \"kesabaran membuahkan hasil indah pada saat tepat! life isn't about waiting for the storm to pass it's about learning to dance in the rain.\",\n",
              "       \"@ScottDPierce @billharris_tv @HarrisGle @Beezersun I'm forfeiting this years fantasy football pool out of fear I may win n get my ass kicked\"],\n",
              "      dtype=object)"
            ]
          },
          "metadata": {
            "tags": []
          },
          "execution_count": 14
        }
      ]
    },
    {
      "cell_type": "code",
      "metadata": {
        "colab": {
          "base_uri": "https://localhost:8080/"
        },
        "id": "zAIeaMY8W7v5",
        "outputId": "a2a4a259-895b-4dcb-8119-fd9442f58c75"
      },
      "source": [
        "train_labels"
      ],
      "execution_count": null,
      "outputs": [
        {
          "output_type": "execute_result",
          "data": {
            "text/plain": [
              "array([0, 0, 1, ..., 1, 1, 0])"
            ]
          },
          "metadata": {
            "tags": []
          },
          "execution_count": 15
        }
      ]
    },
    {
      "cell_type": "code",
      "metadata": {
        "colab": {
          "base_uri": "https://localhost:8080/"
        },
        "id": "Z6CzXib4W-SR",
        "outputId": "1d56168a-83b7-4afc-a3ce-108bb87a4935"
      },
      "source": [
        "val_sentences[0:10] # viewing initial 10 sentences"
      ],
      "execution_count": null,
      "outputs": [
        {
          "output_type": "execute_result",
          "data": {
            "text/plain": [
              "array(['DFR EP016 Monthly Meltdown - On Dnbheaven 2015.08.06 http://t.co/EjKRf8N8A8 #Drum and Bass #heavy #nasty http://t.co/SPHWE6wFI5',\n",
              "       'FedEx no longer to transport bioterror germs in wake of anthrax lab mishaps http://t.co/qZQc8WWwcN via @usatoday',\n",
              "       'Gunmen kill four in El Salvador bus attack: Suspected Salvadoran gang members killed four people and wounded s... http://t.co/CNtwB6ScZj',\n",
              "       '@camilacabello97 Internally and externally screaming',\n",
              "       'Radiation emergency #preparedness starts with knowing to: get inside stay inside and stay tuned http://t.co/RFFPqBAz2F via @CDCgov',\n",
              "       'Investigators rule catastrophic structural failure resulted in 2014 Virg.. Related Articles: http://t.co/Cy1LFeNyV8',\n",
              "       'How the West was burned: Thousands of wildfires ablaze in #California alone http://t.co/iCSjGZ9tE1 #climate #energy http://t.co/9FxmN0l0Bd',\n",
              "       \"Map: Typhoon Soudelor's predicted path as it approaches Taiwan; expected to make landfall over southern China by S\\x89Û_ http://t.co/JDVSGVhlIs\",\n",
              "       '\\x89Ûª93 blasts accused Yeda Yakub dies in Karachi of heart attack http://t.co/mfKqyxd8XG #Mumbai',\n",
              "       'My ears are bleeding  https://t.co/k5KnNwugwT'], dtype=object)"
            ]
          },
          "metadata": {
            "tags": []
          },
          "execution_count": 16
        }
      ]
    },
    {
      "cell_type": "code",
      "metadata": {
        "colab": {
          "base_uri": "https://localhost:8080/"
        },
        "id": "04nRtvb9XBMW",
        "outputId": "de78d1a5-8172-4350-ff44-726bdd633913"
      },
      "source": [
        "val_labels[0:30] # viewing initial 30 labels"
      ],
      "execution_count": null,
      "outputs": [
        {
          "output_type": "execute_result",
          "data": {
            "text/plain": [
              "array([0, 0, 1, 1, 1, 1, 1, 1, 1, 0, 0, 0, 0, 0, 0, 0, 0, 0, 1, 0, 1, 1,\n",
              "       1, 1, 1, 1, 0, 0, 0, 0])"
            ]
          },
          "metadata": {
            "tags": []
          },
          "execution_count": 17
        }
      ]
    },
    {
      "cell_type": "markdown",
      "metadata": {
        "id": "OhQ9LcFibHJI"
      },
      "source": [
        "## CONVERTING TEXT TO NUMBERS"
      ]
    },
    {
      "cell_type": "code",
      "metadata": {
        "id": "rauLtQa3bFdM"
      },
      "source": [
        "import tensorflow\n",
        "from tensorflow.keras.layers.experimental.preprocessing import TextVectorization"
      ],
      "execution_count": null,
      "outputs": []
    },
    {
      "cell_type": "code",
      "metadata": {
        "id": "AIRGNV6QbUfP"
      },
      "source": [
        "# use the default text vectorization parameters\n",
        "text_vectorizer = TextVectorization(max_tokens=None, # how many words in the vocabluary\n",
        "                                    standardize='lower_and_strip_punctuation',\n",
        "                                    split='whitespace',\n",
        "                                    ngrams=None,\n",
        "                                    output_mode='int',\n",
        "                                    output_sequence_length=None,\n",
        "                                    pad_to_max_tokens=True)"
      ],
      "execution_count": null,
      "outputs": []
    },
    {
      "cell_type": "code",
      "metadata": {
        "colab": {
          "base_uri": "https://localhost:8080/"
        },
        "id": "ZypZpsvBeDaU",
        "outputId": "5cfa6a83-e27a-4dfa-f352-476554fa864c"
      },
      "source": [
        "# find the average number of tokens (words) in the training tweets\n",
        "round(sum([len(i.split()) for i in train_sentences])/len(train_sentences))\n",
        "# so there are 15 words in every tweet on average"
      ],
      "execution_count": null,
      "outputs": [
        {
          "output_type": "execute_result",
          "data": {
            "text/plain": [
              "15"
            ]
          },
          "metadata": {
            "tags": []
          },
          "execution_count": 20
        }
      ]
    },
    {
      "cell_type": "code",
      "metadata": {
        "id": "nAzw35o4fjDg"
      },
      "source": [
        "# setup text vectorization variables\n",
        "max_vocab_length = 10000 # maximum number of words to have in our dictionary\n",
        "max_length = 15 # max length our sequence will be\n",
        "text_vectorizer = TextVectorization(max_tokens=max_vocab_length,\n",
        "                                    output_mode = 'int',\n",
        "                                    output_sequence_length=max_length)"
      ],
      "execution_count": null,
      "outputs": []
    },
    {
      "cell_type": "code",
      "metadata": {
        "id": "qAhCEPJwhZ8S"
      },
      "source": [
        "# fit the text vectorizer to the training text\n",
        "text_vectorizer.adapt(train_sentences)"
      ],
      "execution_count": null,
      "outputs": []
    },
    {
      "cell_type": "code",
      "metadata": {
        "colab": {
          "base_uri": "https://localhost:8080/"
        },
        "id": "M22C-2skhrrC",
        "outputId": "38151b24-a1c4-4737-a56f-79b2d254ab75"
      },
      "source": [
        "# create a sample sentence and tokenize it\n",
        "sample_sentence = ['hello, this is kunal from pakistan']\n",
        "text_vectorizer(sample_sentence) # here we can see we have padded with zero's as there are zeros in the last to complete it to 15"
      ],
      "execution_count": null,
      "outputs": [
        {
          "output_type": "execute_result",
          "data": {
            "text/plain": [
              "<tf.Tensor: shape=(1, 15), dtype=int64, numpy=\n",
              "array([[1400,   19,    9,    1,   20,  811,    0,    0,    0,    0,    0,\n",
              "           0,    0,    0,    0]])>"
            ]
          },
          "metadata": {
            "tags": []
          },
          "execution_count": 23
        }
      ]
    },
    {
      "cell_type": "code",
      "metadata": {
        "colab": {
          "base_uri": "https://localhost:8080/"
        },
        "id": "-W4s2KEIjcKF",
        "outputId": "f864f1e0-0554-4394-9a7e-447e326c01d7"
      },
      "source": [
        "# choose a random sentence from our training data and tokenize it\n",
        "random_sentence = random.choice(train_sentences)\n",
        "print(f\"original sentence:\\n {random_sentence} \\\n",
        "     \\n\\n vectorized_version:\\n\")\n",
        "text_vectorizer([random_sentence])"
      ],
      "execution_count": null,
      "outputs": [
        {
          "output_type": "stream",
          "text": [
            "original sentence:\n",
            " Those that I have sworn to defend have proven themselves to be friends of the House Hailstorm.      \n",
            "\n",
            " vectorized_version:\n",
            "\n"
          ],
          "name": "stdout"
        },
        {
          "output_type": "execute_result",
          "data": {
            "text/plain": [
              "<tf.Tensor: shape=(1, 15), dtype=int64, numpy=\n",
              "array([[ 161,   16,    8,   24, 7853,    5, 3065,   24, 9516, 2656,    5,\n",
              "          21,  819,    6,    2]])>"
            ]
          },
          "metadata": {
            "tags": []
          },
          "execution_count": 24
        }
      ]
    },
    {
      "cell_type": "code",
      "metadata": {
        "colab": {
          "base_uri": "https://localhost:8080/"
        },
        "id": "Q-tbrS1IFZtB",
        "outputId": "d031cfc9-53dd-4166-f25e-0a70106cb50e"
      },
      "source": [
        "# getting the unique words in the vocabulary\n",
        "words_in_vocab = text_vectorizer.get_vocabulary() \n",
        "top_5_words = words_in_vocab[:5]\n",
        "bottom_5_words = words_in_vocab[-5:]\n",
        "print(f\"number of words in vocabulary: {len(words_in_vocab)}\")\n",
        "print(f\"5 most commom words: {top_5_words}\")\n",
        "print(f\"5 least common words: {bottom_5_words}\")"
      ],
      "execution_count": null,
      "outputs": [
        {
          "output_type": "stream",
          "text": [
            "number of words in vocabulary: 10000\n",
            "5 most commom words: ['', '[UNK]', 'the', 'a', 'in']\n",
            "5 least common words: ['pages', 'paeds', 'pads', 'padres', 'paddytomlinson1']\n"
          ],
          "name": "stdout"
        }
      ]
    },
    {
      "cell_type": "code",
      "metadata": {
        "id": "z8DsCEh1J37S"
      },
      "source": [
        "# words_in_vocab -> we can see the vocabulary this way"
      ],
      "execution_count": null,
      "outputs": []
    },
    {
      "cell_type": "markdown",
      "metadata": {
        "id": "S9TEKBDFYzNw"
      },
      "source": [
        "## CREATING AN EMBEDDING USING AN EMBEDDING LAYER"
      ]
    },
    {
      "cell_type": "code",
      "metadata": {
        "id": "J4RpmoEaKEC3"
      },
      "source": [
        "from tensorflow.keras import layers\n",
        "embedding = layers.Embedding(input_dim = max_vocab_length, output_dim = 128, input_length = max_length)"
      ],
      "execution_count": null,
      "outputs": []
    },
    {
      "cell_type": "code",
      "metadata": {
        "colab": {
          "base_uri": "https://localhost:8080/"
        },
        "id": "jrVVqAz6Z4XS",
        "outputId": "03d69c26-7fc9-4ada-f021-3ccbd9a918c2"
      },
      "source": [
        "# get a random sentence from our training data\n",
        "random_sentence = random.choice(train_sentences)\n",
        "print(f\"original texrt:\\n {random_sentence} \\\n",
        "       \\n\\n embedded version:\\n \"\n",
        "      )\n",
        "# embed the random sentence (turn it into dense vectors of fixed size)\n",
        "sample_embed = embedding(text_vectorizer([random_sentence]))\n",
        "sample_embed"
      ],
      "execution_count": null,
      "outputs": [
        {
          "output_type": "stream",
          "text": [
            "original texrt:\n",
            " Hellfire is surrounded by desires so be careful and donÛªt let your desires control you! #Afterlife        \n",
            "\n",
            " embedded version:\n",
            " \n"
          ],
          "name": "stdout"
        },
        {
          "output_type": "execute_result",
          "data": {
            "text/plain": [
              "<tf.Tensor: shape=(1, 15, 128), dtype=float32, numpy=\n",
              "array([[[ 0.00879746,  0.00621387, -0.01830555, ...,  0.02625204,\n",
              "          0.03845856, -0.03402692],\n",
              "        [ 0.04096503,  0.0404273 ,  0.00225029, ...,  0.02850764,\n",
              "          0.0412682 , -0.01777378],\n",
              "        [ 0.00063924,  0.03514132,  0.03975764, ..., -0.02449412,\n",
              "         -0.04623724, -0.04647881],\n",
              "        ...,\n",
              "        [-0.03694429,  0.04591988, -0.03658252, ..., -0.02619305,\n",
              "          0.03823229,  0.03003428],\n",
              "        [-0.00154668,  0.03742785, -0.01729655, ..., -0.00078506,\n",
              "          0.00016145,  0.0225885 ],\n",
              "        [-0.04237081,  0.0033442 , -0.01128031, ...,  0.0392071 ,\n",
              "          0.0069814 ,  0.02264117]]], dtype=float32)>"
            ]
          },
          "metadata": {
            "tags": []
          },
          "execution_count": 28
        }
      ]
    },
    {
      "cell_type": "code",
      "metadata": {
        "colab": {
          "base_uri": "https://localhost:8080/"
        },
        "id": "2MoRKNuHLhyS",
        "outputId": "095ee6fe-acc3-461d-e07c-54e584324b33"
      },
      "source": [
        "# check out a single token's embed\n",
        "sample_embed[0][0], sample_embed[0][0].shape, random_sentence"
      ],
      "execution_count": null,
      "outputs": [
        {
          "output_type": "execute_result",
          "data": {
            "text/plain": [
              "(<tf.Tensor: shape=(128,), dtype=float32, numpy=\n",
              " array([ 0.00879746,  0.00621387, -0.01830555,  0.04479036,  0.03027774,\n",
              "        -0.02478739, -0.03306929,  0.03885527, -0.02847859, -0.02596858,\n",
              "        -0.02603444,  0.04729625, -0.02172185, -0.04063044,  0.04486314,\n",
              "         0.04478041, -0.03796153,  0.00596523,  0.02974595,  0.04885942,\n",
              "        -0.00415882,  0.01400635,  0.04580193, -0.02681954,  0.04787714,\n",
              "        -0.02223131,  0.04336068, -0.00268724,  0.0200294 , -0.03207554,\n",
              "        -0.01109829,  0.02402462,  0.02373468,  0.00594934, -0.04533259,\n",
              "        -0.01487494, -0.02131438, -0.0164215 ,  0.01414062, -0.02816062,\n",
              "         0.01651276,  0.0261997 ,  0.0366511 ,  0.01052599, -0.00739105,\n",
              "         0.04477075, -0.04909487, -0.02700547, -0.04251846,  0.00624407,\n",
              "        -0.04205314, -0.03885403, -0.015652  ,  0.00533151, -0.02263205,\n",
              "        -0.03891248, -0.02711318, -0.01073035,  0.04685471, -0.03221074,\n",
              "         0.02119908, -0.00691849, -0.00235472, -0.00857655,  0.00042721,\n",
              "         0.04703167,  0.0012163 , -0.04202887,  0.00343826, -0.00975245,\n",
              "         0.03350428, -0.03098667, -0.03561676,  0.04314305,  0.01414908,\n",
              "         0.04779439, -0.03541174, -0.03417087, -0.042119  ,  0.00256299,\n",
              "         0.00422566,  0.04624233,  0.02060672, -0.0177196 , -0.03954468,\n",
              "        -0.00413598,  0.04460463,  0.01908116, -0.02184222, -0.04515772,\n",
              "         0.00802676, -0.02168934,  0.040687  ,  0.00911685, -0.0433139 ,\n",
              "         0.02541088, -0.02671931,  0.02564801,  0.01138023, -0.04046758,\n",
              "        -0.04705309, -0.02796884, -0.02516762,  0.01778897,  0.03449709,\n",
              "         0.04647518, -0.00071752,  0.04177538,  0.01470831,  0.02408332,\n",
              "         0.00385544,  0.04287985,  0.0355376 , -0.03429689,  0.0381606 ,\n",
              "        -0.04844334,  0.03585467,  0.04685001, -0.03139492, -0.02931709,\n",
              "        -0.02338011,  0.02792514,  0.01096953, -0.03393263, -0.00349955,\n",
              "         0.02625204,  0.03845856, -0.03402692], dtype=float32)>,\n",
              " TensorShape([128]),\n",
              " 'Hellfire is surrounded by desires so be careful and don\\x89Ûªt let your desires control you! #Afterlife')"
            ]
          },
          "metadata": {
            "tags": []
          },
          "execution_count": 29
        }
      ]
    },
    {
      "cell_type": "markdown",
      "metadata": {
        "id": "1fJx0UPiN9pp"
      },
      "source": [
        "### MODEL 0: NAIVE BAYES (BASELINE)"
      ]
    },
    {
      "cell_type": "markdown",
      "metadata": {
        "id": "jgh2pqhrRXY5"
      },
      "source": [
        "* we will use `tfidf` to convert our texts into numbers"
      ]
    },
    {
      "cell_type": "code",
      "metadata": {
        "colab": {
          "base_uri": "https://localhost:8080/"
        },
        "id": "_FQ7bKIVOLME",
        "outputId": "2a34bdfa-ebed-40ec-d11e-5966d53937d1"
      },
      "source": [
        "from sklearn.feature_extraction.text import TfidfVectorizer\n",
        "from sklearn.naive_bayes import MultinomialNB\n",
        "from sklearn.pipeline import Pipeline\n",
        "\n",
        "# create tokenization and modelling pipeline\n",
        "model_0 = Pipeline(\n",
        "    [\n",
        "     ('tfidf', TfidfVectorizer()), # convert words to numbers using tfidf\n",
        "     ('clf', MultinomialNB()) # model the text\n",
        "    ]\n",
        ")\n",
        "\n",
        "# fit the pipeline to our training data\n",
        "model_0.fit(train_sentences, train_labels)"
      ],
      "execution_count": null,
      "outputs": [
        {
          "output_type": "execute_result",
          "data": {
            "text/plain": [
              "Pipeline(memory=None,\n",
              "         steps=[('tfidf',\n",
              "                 TfidfVectorizer(analyzer='word', binary=False,\n",
              "                                 decode_error='strict',\n",
              "                                 dtype=<class 'numpy.float64'>,\n",
              "                                 encoding='utf-8', input='content',\n",
              "                                 lowercase=True, max_df=1.0, max_features=None,\n",
              "                                 min_df=1, ngram_range=(1, 1), norm='l2',\n",
              "                                 preprocessor=None, smooth_idf=True,\n",
              "                                 stop_words=None, strip_accents=None,\n",
              "                                 sublinear_tf=False,\n",
              "                                 token_pattern='(?u)\\\\b\\\\w\\\\w+\\\\b',\n",
              "                                 tokenizer=None, use_idf=True,\n",
              "                                 vocabulary=None)),\n",
              "                ('clf',\n",
              "                 MultinomialNB(alpha=1.0, class_prior=None, fit_prior=True))],\n",
              "         verbose=False)"
            ]
          },
          "metadata": {
            "tags": []
          },
          "execution_count": 30
        }
      ]
    },
    {
      "cell_type": "code",
      "metadata": {
        "id": "Mw7JKOHsSN-h"
      },
      "source": [
        "# evaluate our baseline model\n",
        "baseline_score = model_0.score(val_sentences, val_labels)\n",
        "# default evaluatio matrix in scikit learn is accuracy"
      ],
      "execution_count": null,
      "outputs": []
    },
    {
      "cell_type": "code",
      "metadata": {
        "colab": {
          "base_uri": "https://localhost:8080/"
        },
        "id": "v1wtOGTpSg45",
        "outputId": "5dfa35ad-73f6-4b04-b586-1a08cb945721"
      },
      "source": [
        "print(f\"our baseline model achieves an accuracy of: {baseline_score*100:.2f} %\")"
      ],
      "execution_count": null,
      "outputs": [
        {
          "output_type": "stream",
          "text": [
            "our baseline model achieves an accuracy of: 79.27 %\n"
          ],
          "name": "stdout"
        }
      ]
    },
    {
      "cell_type": "code",
      "metadata": {
        "colab": {
          "base_uri": "https://localhost:8080/"
        },
        "id": "X1E5jiEkSw8a",
        "outputId": "fc3358b0-4d39-426a-9dc5-db5ce7df4ce5"
      },
      "source": [
        "# we will predict on our validation data now\n",
        "baseline_preds = model_0.predict(val_sentences)\n",
        "baseline_preds[:20]"
      ],
      "execution_count": null,
      "outputs": [
        {
          "output_type": "execute_result",
          "data": {
            "text/plain": [
              "array([1, 1, 1, 0, 0, 1, 1, 1, 1, 0, 0, 1, 0, 0, 0, 0, 0, 0, 0, 1])"
            ]
          },
          "metadata": {
            "tags": []
          },
          "execution_count": 33
        }
      ]
    },
    {
      "cell_type": "markdown",
      "metadata": {
        "id": "x756OVK2U9RO"
      },
      "source": [
        "creating an evaluation function for our model experiments. we will use the following metrics for evaluation.\n",
        "\n",
        "\n",
        "1.   Accuracy\n",
        "2.   Precision\n",
        "3.   Recall\n",
        "4.   F1-score\n",
        "\n"
      ]
    },
    {
      "cell_type": "code",
      "metadata": {
        "id": "fzmQb1_hU8u8"
      },
      "source": [
        "from sklearn.metrics import accuracy_score, precision_recall_fscore_support\n",
        "\n",
        "def calculate_score(y_true, y_pred):\n",
        "  \"\"\"\n",
        "  calculates model accuracy, precision, recall, f1-score\n",
        "  \"\"\"\n",
        "  # calculate model accuracy\n",
        "  model_accuracy = accuracy_score(y_true, y_pred) * 100\n",
        "  # calculate model precision, recall, f1-score using weighted score\n",
        "  precision, recall, f1_score, _ = precision_recall_fscore_support(y_true, y_pred, average='weighted')\n",
        "  model_results = {\n",
        "      'accuracy': model_accuracy,\n",
        "      'precision': precision,\n",
        "      'recall': recall,\n",
        "      'f1-score': f1_score\n",
        "  }\n",
        "  return model_results"
      ],
      "execution_count": null,
      "outputs": []
    },
    {
      "cell_type": "code",
      "metadata": {
        "colab": {
          "base_uri": "https://localhost:8080/"
        },
        "id": "IEwO-ouWZi3S",
        "outputId": "d4d668af-5310-41c2-de46-10dadf23c212"
      },
      "source": [
        "# get baseline results\n",
        "baseline_results = calculate_score(y_true=val_labels,\n",
        "                                     y_pred = baseline_preds,\n",
        "                                     )\n",
        "baseline_results"
      ],
      "execution_count": null,
      "outputs": [
        {
          "output_type": "execute_result",
          "data": {
            "text/plain": [
              "{'accuracy': 79.26509186351706,\n",
              " 'f1-score': 0.7862189758049549,\n",
              " 'precision': 0.8111390004213173,\n",
              " 'recall': 0.7926509186351706}"
            ]
          },
          "metadata": {
            "tags": []
          },
          "execution_count": 35
        }
      ]
    },
    {
      "cell_type": "markdown",
      "metadata": {
        "id": "ZjBDOEkk4QWh"
      },
      "source": [
        "### MODEL 2: A SIMPLE DENSE MODEL"
      ]
    },
    {
      "cell_type": "code",
      "metadata": {
        "id": "jQ8EolJC4Ug1"
      },
      "source": [
        "# create a tensorboard callback\n",
        "from helper_functions import create_tensorboard_callback\n",
        "\n",
        "# creating a directory to save our tensorboard logs\n",
        "save_dir = 'model_logs'"
      ],
      "execution_count": null,
      "outputs": []
    },
    {
      "cell_type": "code",
      "metadata": {
        "id": "b0NnPs2C5HJI"
      },
      "source": [
        "# build model with functional API\n",
        "import tensorflow as tf\n",
        "from tensorflow.keras import layers\n",
        "input = layers.Input(shape=(1,), dtype=tf.string) # inputs are one dimensionl strings\n",
        "x = text_vectorizer(input) # turn the inputs into numbers\n",
        "x = embedding(x) # create an embedding of the numberized inputs\n",
        "x = layers.GlobalAveragePooling1D()(x) # condense the feature vector for each token to one vector\n",
        "output = layers.Dense(1, activation='sigmoid')(x) # create the output layer\n",
        "model_1 = tf.keras.Model(input, output, name='model_1_dense')"
      ],
      "execution_count": null,
      "outputs": []
    },
    {
      "cell_type": "code",
      "metadata": {
        "colab": {
          "base_uri": "https://localhost:8080/"
        },
        "id": "qASeR_mL__uk",
        "outputId": "74e8fcba-ad30-47df-cc8c-8012e268f85a"
      },
      "source": [
        "model_1.summary()"
      ],
      "execution_count": null,
      "outputs": [
        {
          "output_type": "stream",
          "text": [
            "Model: \"model_1_dense\"\n",
            "_________________________________________________________________\n",
            "Layer (type)                 Output Shape              Param #   \n",
            "=================================================================\n",
            "input_1 (InputLayer)         [(None, 1)]               0         \n",
            "_________________________________________________________________\n",
            "text_vectorization_1 (TextVe (None, 15)                0         \n",
            "_________________________________________________________________\n",
            "embedding (Embedding)        (None, 15, 128)           1280000   \n",
            "_________________________________________________________________\n",
            "global_average_pooling1d (Gl (None, 128)               0         \n",
            "_________________________________________________________________\n",
            "dense (Dense)                (None, 1)                 129       \n",
            "=================================================================\n",
            "Total params: 1,280,129\n",
            "Trainable params: 1,280,129\n",
            "Non-trainable params: 0\n",
            "_________________________________________________________________\n"
          ],
          "name": "stdout"
        }
      ]
    },
    {
      "cell_type": "code",
      "metadata": {
        "id": "6mk00P-Z7nl1"
      },
      "source": [
        "# compile model_1\n",
        "model_1.compile(loss = 'binary_crossentropy',\n",
        "                optimizer = 'adam',\n",
        "                metrics=['accuracy'])"
      ],
      "execution_count": null,
      "outputs": []
    },
    {
      "cell_type": "code",
      "metadata": {
        "colab": {
          "base_uri": "https://localhost:8080/"
        },
        "id": "ZNBJ_cHJ76dm",
        "outputId": "ddaccf4a-c165-425c-bf78-029e55ed16d3"
      },
      "source": [
        "# fit the model\n",
        "model_1_history = model_1.fit(train_sentences, train_labels, epochs=5, validation_data=(val_sentences, val_labels),\n",
        "                              callbacks = [create_tensorboard_callback(dir_name=save_dir, experiment_name='model_1_dense')])"
      ],
      "execution_count": null,
      "outputs": [
        {
          "output_type": "stream",
          "text": [
            "Saving TensorBoard log files to: model_logs/model_1_dense/20210806-153921\n",
            "Epoch 1/5\n",
            "215/215 [==============================] - 4s 16ms/step - loss: 0.6135 - accuracy: 0.6897 - val_loss: 0.5381 - val_accuracy: 0.7533\n",
            "Epoch 2/5\n",
            "215/215 [==============================] - 3s 13ms/step - loss: 0.4434 - accuracy: 0.8184 - val_loss: 0.4682 - val_accuracy: 0.7808\n",
            "Epoch 3/5\n",
            "215/215 [==============================] - 3s 14ms/step - loss: 0.3471 - accuracy: 0.8619 - val_loss: 0.4612 - val_accuracy: 0.7979\n",
            "Epoch 4/5\n",
            "215/215 [==============================] - 3s 14ms/step - loss: 0.2844 - accuracy: 0.8901 - val_loss: 0.4637 - val_accuracy: 0.7822\n",
            "Epoch 5/5\n",
            "215/215 [==============================] - 3s 14ms/step - loss: 0.2390 - accuracy: 0.9092 - val_loss: 0.4810 - val_accuracy: 0.7848\n"
          ],
          "name": "stdout"
        }
      ]
    },
    {
      "cell_type": "code",
      "metadata": {
        "colab": {
          "base_uri": "https://localhost:8080/"
        },
        "id": "hAYezvK094Z4",
        "outputId": "56060f7a-5494-4ba4-8e81-a159f5be970d"
      },
      "source": [
        "# check the results\n",
        "model_1.evaluate(val_sentences, val_labels)"
      ],
      "execution_count": null,
      "outputs": [
        {
          "output_type": "stream",
          "text": [
            "24/24 [==============================] - 0s 3ms/step - loss: 0.4810 - accuracy: 0.7848\n"
          ],
          "name": "stdout"
        },
        {
          "output_type": "execute_result",
          "data": {
            "text/plain": [
              "[0.48104384541511536, 0.7847769260406494]"
            ]
          },
          "metadata": {
            "tags": []
          },
          "execution_count": 41
        }
      ]
    },
    {
      "cell_type": "code",
      "metadata": {
        "colab": {
          "base_uri": "https://localhost:8080/"
        },
        "id": "4k5AQcoz-GYI",
        "outputId": "d6b0b853-e176-4382-ecd2-ad5935663be2"
      },
      "source": [
        "# make some predictions and evaluate those\n",
        "model_1_pred_prob = model_1.predict(val_sentences)\n",
        "model_1_pred_prob.shape\n",
        "model_1_pred_prob"
      ],
      "execution_count": null,
      "outputs": [
        {
          "output_type": "execute_result",
          "data": {
            "text/plain": [
              "array([[4.01041716e-01],\n",
              "       [7.40684152e-01],\n",
              "       [9.97584581e-01],\n",
              "       [1.32033661e-01],\n",
              "       [1.27762318e-01],\n",
              "       [9.37868774e-01],\n",
              "       [9.13600028e-01],\n",
              "       [9.92623448e-01],\n",
              "       [9.67914164e-01],\n",
              "       [2.86270261e-01],\n",
              "       [1.30230144e-01],\n",
              "       [6.82497144e-01],\n",
              "       [5.32644019e-02],\n",
              "       [1.91140458e-01],\n",
              "       [4.32200730e-03],\n",
              "       [1.46771535e-01],\n",
              "       [2.58098207e-02],\n",
              "       [9.75843295e-02],\n",
              "       [2.42753342e-01],\n",
              "       [5.74996352e-01],\n",
              "       [9.09612954e-01],\n",
              "       [4.04059291e-02],\n",
              "       [4.13487256e-01],\n",
              "       [9.20515358e-02],\n",
              "       [9.56371963e-01],\n",
              "       [9.99079823e-01],\n",
              "       [3.75315212e-02],\n",
              "       [7.46415630e-02],\n",
              "       [2.91814860e-02],\n",
              "       [2.07112685e-01],\n",
              "       [5.75213969e-01],\n",
              "       [2.89756984e-01],\n",
              "       [4.36146468e-01],\n",
              "       [1.82937488e-01],\n",
              "       [4.84587908e-01],\n",
              "       [5.39458394e-02],\n",
              "       [9.93951201e-01],\n",
              "       [1.61340892e-01],\n",
              "       [2.74551269e-02],\n",
              "       [9.98447239e-01],\n",
              "       [1.82960019e-01],\n",
              "       [1.75680425e-02],\n",
              "       [2.86563218e-01],\n",
              "       [6.16300404e-02],\n",
              "       [6.17733479e-01],\n",
              "       [9.85284507e-01],\n",
              "       [3.00821126e-01],\n",
              "       [9.26619828e-01],\n",
              "       [2.00419426e-01],\n",
              "       [6.48897946e-01],\n",
              "       [5.82647026e-02],\n",
              "       [5.58430731e-01],\n",
              "       [4.50022131e-01],\n",
              "       [3.36170383e-02],\n",
              "       [1.27180770e-01],\n",
              "       [3.04371361e-02],\n",
              "       [2.31604725e-01],\n",
              "       [9.59290087e-01],\n",
              "       [1.08311325e-01],\n",
              "       [2.26460327e-03],\n",
              "       [1.42698482e-01],\n",
              "       [9.59096611e-01],\n",
              "       [9.04042900e-01],\n",
              "       [1.65411189e-01],\n",
              "       [9.34257269e-01],\n",
              "       [9.81212795e-01],\n",
              "       [7.55199611e-01],\n",
              "       [3.65940839e-01],\n",
              "       [9.99176875e-02],\n",
              "       [1.68207854e-01],\n",
              "       [9.48359966e-02],\n",
              "       [2.77777035e-02],\n",
              "       [9.36420739e-01],\n",
              "       [1.38078630e-01],\n",
              "       [1.23374596e-01],\n",
              "       [4.27590787e-01],\n",
              "       [3.85571510e-01],\n",
              "       [8.29942048e-01],\n",
              "       [2.61469215e-01],\n",
              "       [5.84309220e-01],\n",
              "       [4.54595238e-01],\n",
              "       [2.77091533e-01],\n",
              "       [9.95467901e-01],\n",
              "       [1.10126287e-01],\n",
              "       [1.69942915e-01],\n",
              "       [9.57263559e-02],\n",
              "       [2.15077698e-02],\n",
              "       [1.07027136e-01],\n",
              "       [6.83511555e-01],\n",
              "       [8.75646472e-01],\n",
              "       [9.92301464e-01],\n",
              "       [1.04717491e-02],\n",
              "       [5.59261501e-01],\n",
              "       [2.64857523e-02],\n",
              "       [9.85536158e-01],\n",
              "       [7.25748181e-01],\n",
              "       [8.73320699e-01],\n",
              "       [9.73724365e-01],\n",
              "       [8.74112248e-01],\n",
              "       [9.61159050e-01],\n",
              "       [9.99329686e-01],\n",
              "       [1.70247614e-01],\n",
              "       [1.30602093e-02],\n",
              "       [9.19459999e-01],\n",
              "       [8.90648663e-01],\n",
              "       [1.04215257e-01],\n",
              "       [8.55294943e-01],\n",
              "       [9.74512875e-01],\n",
              "       [5.35335466e-02],\n",
              "       [4.60022002e-01],\n",
              "       [7.38934338e-01],\n",
              "       [3.87367457e-02],\n",
              "       [2.54834861e-01],\n",
              "       [1.78200394e-01],\n",
              "       [1.80830121e-01],\n",
              "       [4.92941260e-01],\n",
              "       [4.18796331e-01],\n",
              "       [7.40756989e-01],\n",
              "       [7.44139433e-01],\n",
              "       [7.78951943e-02],\n",
              "       [9.99755204e-01],\n",
              "       [9.29152966e-02],\n",
              "       [1.27654433e-01],\n",
              "       [8.22995901e-01],\n",
              "       [4.87741083e-01],\n",
              "       [2.97414690e-01],\n",
              "       [8.41735840e-01],\n",
              "       [8.49555898e-03],\n",
              "       [6.21003732e-02],\n",
              "       [7.89723933e-01],\n",
              "       [1.03346385e-01],\n",
              "       [9.99755204e-01],\n",
              "       [9.99846816e-01],\n",
              "       [9.99079823e-01],\n",
              "       [9.85470057e-01],\n",
              "       [7.98637718e-02],\n",
              "       [9.72635984e-01],\n",
              "       [1.64460048e-01],\n",
              "       [2.90011168e-01],\n",
              "       [9.08065140e-02],\n",
              "       [9.96821523e-01],\n",
              "       [3.39830577e-01],\n",
              "       [1.91140458e-01],\n",
              "       [9.51592982e-01],\n",
              "       [2.65474737e-01],\n",
              "       [5.92050374e-01],\n",
              "       [5.44769876e-02],\n",
              "       [7.93381594e-03],\n",
              "       [2.45360434e-01],\n",
              "       [9.82033968e-01],\n",
              "       [2.83970743e-01],\n",
              "       [6.27562851e-02],\n",
              "       [4.34647352e-01],\n",
              "       [1.87866613e-01],\n",
              "       [2.36830458e-01],\n",
              "       [9.92722094e-01],\n",
              "       [7.82983184e-01],\n",
              "       [4.51889932e-01],\n",
              "       [9.89817679e-01],\n",
              "       [2.27062311e-02],\n",
              "       [9.72126484e-01],\n",
              "       [6.92305788e-02],\n",
              "       [2.71244615e-01],\n",
              "       [9.92686033e-01],\n",
              "       [2.77567863e-01],\n",
              "       [8.10165405e-02],\n",
              "       [9.98889387e-01],\n",
              "       [2.89202422e-01],\n",
              "       [9.80429053e-01],\n",
              "       [2.21479908e-01],\n",
              "       [9.94300008e-01],\n",
              "       [8.60915005e-01],\n",
              "       [8.19906056e-01],\n",
              "       [3.47850136e-02],\n",
              "       [9.98080015e-01],\n",
              "       [6.79380745e-02],\n",
              "       [4.04014349e-01],\n",
              "       [4.54359561e-01],\n",
              "       [7.56035030e-01],\n",
              "       [9.94440973e-01],\n",
              "       [1.67178679e-02],\n",
              "       [8.41934025e-01],\n",
              "       [8.04411173e-01],\n",
              "       [9.65085626e-01],\n",
              "       [9.76260722e-01],\n",
              "       [4.41229045e-01],\n",
              "       [1.03792809e-01],\n",
              "       [9.99606907e-01],\n",
              "       [1.52312955e-02],\n",
              "       [5.18261902e-02],\n",
              "       [9.84406918e-02],\n",
              "       [9.26417947e-01],\n",
              "       [8.42905268e-02],\n",
              "       [2.57960945e-01],\n",
              "       [1.38294781e-02],\n",
              "       [9.90341082e-02],\n",
              "       [3.82849984e-02],\n",
              "       [2.14639217e-01],\n",
              "       [7.77835488e-01],\n",
              "       [6.59234002e-02],\n",
              "       [3.09915274e-01],\n",
              "       [8.90774608e-01],\n",
              "       [9.76968944e-01],\n",
              "       [3.64335448e-01],\n",
              "       [1.19316369e-01],\n",
              "       [9.99858022e-01],\n",
              "       [5.60533702e-01],\n",
              "       [9.24828708e-01],\n",
              "       [6.77553952e-01],\n",
              "       [8.57484758e-01],\n",
              "       [3.38730782e-01],\n",
              "       [9.81821001e-01],\n",
              "       [2.26937067e-02],\n",
              "       [2.18700379e-01],\n",
              "       [7.13562686e-03],\n",
              "       [5.11476491e-03],\n",
              "       [9.50685561e-01],\n",
              "       [8.31455708e-01],\n",
              "       [8.96144867e-01],\n",
              "       [1.41387507e-01],\n",
              "       [7.22066641e-01],\n",
              "       [9.24736038e-02],\n",
              "       [2.62559112e-02],\n",
              "       [1.85706943e-01],\n",
              "       [9.82670724e-01],\n",
              "       [1.87779844e-01],\n",
              "       [5.30033112e-01],\n",
              "       [9.95583951e-01],\n",
              "       [5.97370982e-01],\n",
              "       [5.83484888e-01],\n",
              "       [1.20948829e-01],\n",
              "       [2.16418818e-01],\n",
              "       [8.15970540e-01],\n",
              "       [2.64691651e-01],\n",
              "       [5.15359581e-01],\n",
              "       [1.66531220e-01],\n",
              "       [5.47286868e-01],\n",
              "       [3.78774494e-01],\n",
              "       [1.53825164e-01],\n",
              "       [8.72093812e-02],\n",
              "       [4.28249151e-01],\n",
              "       [2.29885593e-01],\n",
              "       [9.99873877e-01],\n",
              "       [9.86788034e-01],\n",
              "       [8.96252319e-02],\n",
              "       [2.05346923e-02],\n",
              "       [8.78058076e-01],\n",
              "       [1.11964121e-01],\n",
              "       [8.52354839e-02],\n",
              "       [4.58645999e-01],\n",
              "       [4.08689566e-02],\n",
              "       [5.88347971e-01],\n",
              "       [7.60830124e-04],\n",
              "       [4.66494560e-01],\n",
              "       [9.19684112e-01],\n",
              "       [2.20586225e-01],\n",
              "       [9.78611052e-01],\n",
              "       [9.98989046e-01],\n",
              "       [2.86532462e-01],\n",
              "       [1.60801619e-01],\n",
              "       [3.80066812e-01],\n",
              "       [2.90695317e-02],\n",
              "       [4.13407572e-03],\n",
              "       [9.85647142e-01],\n",
              "       [9.62949097e-01],\n",
              "       [6.92423046e-01],\n",
              "       [9.56817985e-01],\n",
              "       [6.19833022e-02],\n",
              "       [1.76827133e-01],\n",
              "       [9.01458133e-03],\n",
              "       [1.58010587e-01],\n",
              "       [3.53473760e-02],\n",
              "       [9.65144455e-01],\n",
              "       [8.30453858e-02],\n",
              "       [1.13540189e-02],\n",
              "       [9.71956074e-01],\n",
              "       [1.30646043e-02],\n",
              "       [1.07768759e-01],\n",
              "       [9.84733403e-01],\n",
              "       [4.76926044e-02],\n",
              "       [8.55856165e-02],\n",
              "       [6.71048323e-03],\n",
              "       [9.68148172e-01],\n",
              "       [5.95869005e-01],\n",
              "       [7.78241158e-01],\n",
              "       [7.17373312e-01],\n",
              "       [5.88902891e-01],\n",
              "       [7.07252175e-02],\n",
              "       [9.49182391e-01],\n",
              "       [2.70487256e-02],\n",
              "       [7.58570850e-01],\n",
              "       [4.33960795e-01],\n",
              "       [4.01183218e-01],\n",
              "       [3.67685169e-01],\n",
              "       [1.87287033e-01],\n",
              "       [7.53827155e-01],\n",
              "       [2.20393017e-01],\n",
              "       [7.59812176e-01],\n",
              "       [1.39606938e-01],\n",
              "       [8.16074133e-01],\n",
              "       [4.73878980e-02],\n",
              "       [8.42820406e-02],\n",
              "       [2.55935937e-01],\n",
              "       [9.82725978e-01],\n",
              "       [1.68547943e-01],\n",
              "       [9.75194275e-02],\n",
              "       [3.03256184e-01],\n",
              "       [2.23130614e-01],\n",
              "       [1.18344173e-01],\n",
              "       [2.62808688e-02],\n",
              "       [2.77019124e-02],\n",
              "       [9.82448161e-01],\n",
              "       [3.67036074e-01],\n",
              "       [2.70581484e-01],\n",
              "       [9.99852180e-01],\n",
              "       [4.65587676e-02],\n",
              "       [6.24043465e-01],\n",
              "       [2.40194932e-01],\n",
              "       [4.31172028e-02],\n",
              "       [1.68229595e-01],\n",
              "       [1.72659531e-01],\n",
              "       [1.07312687e-01],\n",
              "       [9.24404144e-01],\n",
              "       [2.56424844e-01],\n",
              "       [9.88613129e-01],\n",
              "       [1.15620531e-01],\n",
              "       [1.90049913e-02],\n",
              "       [9.95244920e-01],\n",
              "       [2.39561647e-02],\n",
              "       [9.96858001e-01],\n",
              "       [1.49730712e-01],\n",
              "       [4.11636643e-02],\n",
              "       [9.62789178e-01],\n",
              "       [4.42857109e-02],\n",
              "       [3.59563604e-02],\n",
              "       [9.80587006e-01],\n",
              "       [5.85432164e-03],\n",
              "       [1.92343026e-01],\n",
              "       [7.70929277e-01],\n",
              "       [9.17472303e-01],\n",
              "       [4.32379264e-03],\n",
              "       [2.03516126e-01],\n",
              "       [9.81679022e-01],\n",
              "       [9.65803742e-01],\n",
              "       [7.37411201e-01],\n",
              "       [4.39288259e-01],\n",
              "       [6.05275631e-01],\n",
              "       [4.47393298e-01],\n",
              "       [5.51157668e-02],\n",
              "       [9.40399468e-02],\n",
              "       [1.04844861e-01],\n",
              "       [7.46039093e-01],\n",
              "       [2.98803952e-02],\n",
              "       [4.07742828e-01],\n",
              "       [3.64748359e-01],\n",
              "       [1.61550473e-02],\n",
              "       [9.63947415e-01],\n",
              "       [9.99079823e-01],\n",
              "       [9.93305027e-01],\n",
              "       [3.23568545e-02],\n",
              "       [3.44004810e-01],\n",
              "       [1.29202411e-01],\n",
              "       [3.94613743e-01],\n",
              "       [8.09703171e-01],\n",
              "       [1.63219199e-01],\n",
              "       [2.74547506e-02],\n",
              "       [6.45416901e-02],\n",
              "       [4.06596549e-02],\n",
              "       [5.62328815e-01],\n",
              "       [1.30664613e-02],\n",
              "       [2.16376930e-01],\n",
              "       [4.47240174e-02],\n",
              "       [4.06217515e-01],\n",
              "       [4.08420831e-01],\n",
              "       [3.82019013e-01],\n",
              "       [1.88637391e-01],\n",
              "       [6.16491586e-02],\n",
              "       [3.40180427e-01],\n",
              "       [8.82728398e-02],\n",
              "       [9.96905625e-01],\n",
              "       [9.16886747e-01],\n",
              "       [4.34706867e-01],\n",
              "       [6.32279038e-01],\n",
              "       [2.30628066e-02],\n",
              "       [4.97884214e-01],\n",
              "       [9.89619315e-01],\n",
              "       [7.11828768e-01],\n",
              "       [2.04736799e-01],\n",
              "       [9.81127322e-01],\n",
              "       [2.07707852e-01],\n",
              "       [9.51664448e-01],\n",
              "       [2.87827134e-01],\n",
              "       [2.80292463e-02],\n",
              "       [5.86737037e-01],\n",
              "       [4.63125974e-01],\n",
              "       [9.96532321e-01],\n",
              "       [1.12573527e-01],\n",
              "       [3.61119322e-02],\n",
              "       [9.10038874e-02],\n",
              "       [1.63219199e-01],\n",
              "       [9.99076247e-01],\n",
              "       [2.54702363e-02],\n",
              "       [6.35564208e-01],\n",
              "       [9.73660946e-01],\n",
              "       [8.40732902e-02],\n",
              "       [9.99755204e-01],\n",
              "       [3.84519361e-02],\n",
              "       [3.65774393e-01],\n",
              "       [5.46755902e-02],\n",
              "       [7.69664586e-01],\n",
              "       [9.25068498e-01],\n",
              "       [6.78775460e-02],\n",
              "       [1.87836576e-03],\n",
              "       [2.24384084e-01],\n",
              "       [9.90915239e-01],\n",
              "       [8.76883268e-01],\n",
              "       [1.11318648e-01],\n",
              "       [4.41134632e-01],\n",
              "       [7.42511153e-01],\n",
              "       [2.69664899e-02],\n",
              "       [9.93544340e-01],\n",
              "       [5.31692505e-01],\n",
              "       [9.98790085e-01],\n",
              "       [9.25373733e-01],\n",
              "       [9.96966511e-02],\n",
              "       [3.80460173e-01],\n",
              "       [1.31389305e-01],\n",
              "       [9.40247834e-01],\n",
              "       [7.45783627e-01],\n",
              "       [4.05325621e-01],\n",
              "       [3.54292542e-02],\n",
              "       [3.18624854e-01],\n",
              "       [3.66065614e-02],\n",
              "       [6.86294958e-02],\n",
              "       [1.30572364e-01],\n",
              "       [3.55978310e-01],\n",
              "       [4.76830155e-01],\n",
              "       [1.69044808e-01],\n",
              "       [9.99370992e-01],\n",
              "       [9.83759046e-01],\n",
              "       [3.04067582e-01],\n",
              "       [7.40684152e-01],\n",
              "       [2.26004332e-01],\n",
              "       [3.55507098e-02],\n",
              "       [3.30054581e-01],\n",
              "       [6.98759317e-01],\n",
              "       [8.24882239e-02],\n",
              "       [2.16605619e-01],\n",
              "       [1.48585876e-02],\n",
              "       [4.93794590e-01],\n",
              "       [2.28664558e-03],\n",
              "       [9.53052163e-01],\n",
              "       [9.79912221e-01],\n",
              "       [9.93576586e-01],\n",
              "       [9.72604990e-01],\n",
              "       [8.09758723e-01],\n",
              "       [1.75099880e-01],\n",
              "       [5.43762073e-02],\n",
              "       [6.13238633e-01],\n",
              "       [9.09681320e-01],\n",
              "       [9.98193800e-01],\n",
              "       [3.20810196e-03],\n",
              "       [1.48266181e-01],\n",
              "       [1.48749083e-01],\n",
              "       [9.98799682e-01],\n",
              "       [9.99528646e-01],\n",
              "       [2.53421903e-01],\n",
              "       [1.21477976e-01],\n",
              "       [9.96592045e-01],\n",
              "       [5.40877692e-02],\n",
              "       [3.47835898e-01],\n",
              "       [9.84737337e-01],\n",
              "       [1.25613615e-01],\n",
              "       [4.13681976e-02],\n",
              "       [9.39359903e-01],\n",
              "       [2.56675988e-01],\n",
              "       [4.39206272e-01],\n",
              "       [9.71020937e-01],\n",
              "       [1.93724465e-02],\n",
              "       [4.79239672e-02],\n",
              "       [1.18499268e-02],\n",
              "       [1.67904552e-02],\n",
              "       [9.56573859e-02],\n",
              "       [9.74765658e-01],\n",
              "       [2.09642313e-02],\n",
              "       [4.27696913e-01],\n",
              "       [4.77722645e-01],\n",
              "       [6.51228875e-02],\n",
              "       [2.78265953e-01],\n",
              "       [6.69779703e-02],\n",
              "       [3.81558150e-01],\n",
              "       [9.97665048e-01],\n",
              "       [6.38956010e-01],\n",
              "       [1.54067650e-01],\n",
              "       [1.37396887e-01],\n",
              "       [1.48278564e-01],\n",
              "       [7.09161833e-02],\n",
              "       [6.88711941e-01],\n",
              "       [2.20271498e-02],\n",
              "       [8.96365345e-01],\n",
              "       [7.87381470e-01],\n",
              "       [6.29769862e-01],\n",
              "       [6.65187657e-01],\n",
              "       [8.05476367e-01],\n",
              "       [9.41453874e-02],\n",
              "       [2.93269366e-01],\n",
              "       [3.85355622e-01],\n",
              "       [9.18560445e-01],\n",
              "       [2.49337941e-01],\n",
              "       [2.32121229e-01],\n",
              "       [4.61942405e-01],\n",
              "       [1.57054327e-02],\n",
              "       [1.15177758e-01],\n",
              "       [3.39506269e-01],\n",
              "       [7.72989452e-01],\n",
              "       [1.23947978e-01],\n",
              "       [9.91936564e-01],\n",
              "       [9.07095909e-01],\n",
              "       [7.25748181e-01],\n",
              "       [9.81826544e-01],\n",
              "       [1.53936818e-01],\n",
              "       [7.71489218e-02],\n",
              "       [9.08373415e-01],\n",
              "       [1.84714958e-01],\n",
              "       [2.51016784e-02],\n",
              "       [1.01845570e-01],\n",
              "       [1.19013578e-01],\n",
              "       [1.26531534e-03],\n",
              "       [8.63961101e-01],\n",
              "       [7.94915259e-01],\n",
              "       [8.31536770e-01],\n",
              "       [9.40595210e-01],\n",
              "       [9.11668688e-02],\n",
              "       [1.33823320e-01],\n",
              "       [6.97948515e-01],\n",
              "       [1.41993118e-02],\n",
              "       [3.10547888e-01],\n",
              "       [1.38587475e-01],\n",
              "       [6.64945126e-01],\n",
              "       [5.56057632e-01],\n",
              "       [5.61676621e-02],\n",
              "       [5.91480695e-02],\n",
              "       [5.02407670e-01],\n",
              "       [1.30995184e-01],\n",
              "       [1.26208186e-01],\n",
              "       [1.46867126e-01],\n",
              "       [1.65948719e-01],\n",
              "       [9.99048531e-01],\n",
              "       [9.76792395e-01],\n",
              "       [3.99467975e-01],\n",
              "       [8.52782845e-01],\n",
              "       [9.91602242e-01],\n",
              "       [1.09932839e-03],\n",
              "       [9.66701150e-01],\n",
              "       [2.36606851e-01],\n",
              "       [3.95483285e-01],\n",
              "       [2.46739030e-01],\n",
              "       [9.84216481e-02],\n",
              "       [1.41054153e-01],\n",
              "       [2.38914993e-02],\n",
              "       [1.05526395e-01],\n",
              "       [8.96597132e-02],\n",
              "       [7.65010238e-01],\n",
              "       [2.84922719e-01],\n",
              "       [9.93163645e-01],\n",
              "       [4.69587930e-02],\n",
              "       [6.68759108e-01],\n",
              "       [6.00751936e-01],\n",
              "       [2.13332623e-02],\n",
              "       [5.55231608e-02],\n",
              "       [9.70160604e-01],\n",
              "       [7.60655642e-01],\n",
              "       [9.58100975e-01],\n",
              "       [2.45306984e-01],\n",
              "       [9.37817320e-02],\n",
              "       [4.62884516e-01],\n",
              "       [3.39583158e-01],\n",
              "       [3.13885957e-01],\n",
              "       [9.91602242e-01],\n",
              "       [1.10644205e-02],\n",
              "       [3.31343152e-02],\n",
              "       [1.34711295e-01],\n",
              "       [9.96568441e-01],\n",
              "       [2.07607135e-01],\n",
              "       [4.67007868e-02],\n",
              "       [8.15354168e-01],\n",
              "       [6.54983595e-02],\n",
              "       [3.40957046e-02],\n",
              "       [1.73527256e-01],\n",
              "       [2.17349917e-01],\n",
              "       [1.27444148e-01],\n",
              "       [3.71968031e-01],\n",
              "       [3.98111761e-01],\n",
              "       [2.17399806e-01],\n",
              "       [8.69935676e-02],\n",
              "       [3.55118543e-01],\n",
              "       [1.98024735e-02],\n",
              "       [9.48171616e-01],\n",
              "       [8.13525915e-01],\n",
              "       [4.52841192e-01],\n",
              "       [3.00308075e-02],\n",
              "       [2.75871176e-02],\n",
              "       [9.86921549e-01],\n",
              "       [6.67974412e-01],\n",
              "       [9.99491811e-01],\n",
              "       [2.63369620e-01],\n",
              "       [8.81497443e-01],\n",
              "       [1.11698307e-01],\n",
              "       [6.10362113e-01],\n",
              "       [6.95208132e-01],\n",
              "       [2.08791550e-02],\n",
              "       [9.82437015e-01],\n",
              "       [1.02908157e-01],\n",
              "       [5.44310391e-01],\n",
              "       [9.98101532e-01],\n",
              "       [1.53883934e-01],\n",
              "       [3.21736485e-02],\n",
              "       [2.94819087e-01],\n",
              "       [1.10898642e-02],\n",
              "       [5.35756528e-01],\n",
              "       [9.99858022e-01],\n",
              "       [2.97547251e-01],\n",
              "       [9.44412410e-01],\n",
              "       [2.41303518e-01],\n",
              "       [7.40489662e-01],\n",
              "       [2.41525173e-01],\n",
              "       [2.73758709e-01],\n",
              "       [1.66559387e-02],\n",
              "       [6.27323508e-01],\n",
              "       [1.35534070e-02],\n",
              "       [1.88138932e-01],\n",
              "       [9.51942861e-01],\n",
              "       [9.46480453e-01],\n",
              "       [9.95243013e-01],\n",
              "       [7.89712429e-01],\n",
              "       [3.85310054e-02],\n",
              "       [2.93144315e-01],\n",
              "       [2.17515714e-02],\n",
              "       [4.54420418e-01],\n",
              "       [3.31538796e-01],\n",
              "       [8.97268951e-01],\n",
              "       [3.65567878e-02],\n",
              "       [7.89864540e-01],\n",
              "       [8.16277087e-01],\n",
              "       [2.64692724e-01],\n",
              "       [1.97280079e-01],\n",
              "       [2.32121229e-01],\n",
              "       [2.34966114e-01],\n",
              "       [4.17270571e-01],\n",
              "       [6.36429608e-01],\n",
              "       [9.98746395e-01],\n",
              "       [5.68225756e-02],\n",
              "       [6.92975335e-03],\n",
              "       [1.44280205e-02],\n",
              "       [2.30608240e-01],\n",
              "       [1.93052664e-01],\n",
              "       [2.76545696e-02],\n",
              "       [8.72334063e-01],\n",
              "       [1.09765895e-01],\n",
              "       [1.86852962e-01],\n",
              "       [2.06395417e-01],\n",
              "       [2.05923006e-01],\n",
              "       [9.37778115e-01],\n",
              "       [1.96776420e-01],\n",
              "       [5.18180430e-01],\n",
              "       [3.10616970e-01],\n",
              "       [1.28913336e-02],\n",
              "       [9.09089744e-02],\n",
              "       [9.99669075e-01],\n",
              "       [8.05093110e-01],\n",
              "       [4.18596109e-03],\n",
              "       [3.39752942e-01],\n",
              "       [1.59168825e-01],\n",
              "       [8.80257040e-02],\n",
              "       [8.81861627e-01],\n",
              "       [4.87947375e-01],\n",
              "       [5.98580539e-01],\n",
              "       [3.65970254e-01],\n",
              "       [2.00906307e-01],\n",
              "       [6.57964945e-01],\n",
              "       [1.40932381e-01],\n",
              "       [5.33773266e-02],\n",
              "       [9.02466059e-01],\n",
              "       [1.60220668e-01],\n",
              "       [3.83811116e-01],\n",
              "       [9.75643337e-01],\n",
              "       [3.30525815e-01],\n",
              "       [3.94215941e-01],\n",
              "       [1.26531534e-03],\n",
              "       [2.73609310e-01],\n",
              "       [8.64462733e-01],\n",
              "       [9.99755204e-01],\n",
              "       [6.80613756e-01],\n",
              "       [4.13570628e-02],\n",
              "       [9.92715299e-01],\n",
              "       [3.69332314e-01],\n",
              "       [8.54907155e-01],\n",
              "       [3.69332314e-01],\n",
              "       [9.93377268e-01],\n",
              "       [9.08108894e-03],\n",
              "       [4.29748058e-01],\n",
              "       [8.03844407e-02],\n",
              "       [9.75843668e-01],\n",
              "       [2.15631261e-01],\n",
              "       [4.50355202e-01],\n",
              "       [5.94106577e-02],\n",
              "       [2.99133211e-01],\n",
              "       [1.17888421e-01],\n",
              "       [2.79459711e-02],\n",
              "       [2.50778258e-01],\n",
              "       [4.96822000e-02],\n",
              "       [9.32121426e-02],\n",
              "       [8.25069010e-01],\n",
              "       [2.57723201e-02],\n",
              "       [1.16653405e-01],\n",
              "       [3.78013626e-02],\n",
              "       [1.23561192e-02],\n",
              "       [1.49523228e-01],\n",
              "       [6.33690059e-01],\n",
              "       [7.01708496e-02],\n",
              "       [6.45777762e-01],\n",
              "       [1.36059254e-01],\n",
              "       [1.97390065e-01],\n",
              "       [8.89873147e-01],\n",
              "       [1.66383356e-01],\n",
              "       [4.70241234e-02],\n",
              "       [6.70629963e-02],\n",
              "       [6.37679640e-03],\n",
              "       [9.89520550e-01],\n",
              "       [1.23561192e-02],\n",
              "       [3.56247604e-01],\n",
              "       [9.92537200e-01],\n",
              "       [9.92394090e-01],\n",
              "       [9.97549713e-01],\n",
              "       [9.99917984e-01],\n",
              "       [9.99529600e-01],\n",
              "       [2.09686384e-01],\n",
              "       [6.36830330e-02],\n",
              "       [2.60410428e-01],\n",
              "       [5.51150441e-01],\n",
              "       [9.96793330e-01],\n",
              "       [5.43248892e-01],\n",
              "       [2.55026400e-01],\n",
              "       [5.38650990e-01],\n",
              "       [7.07614601e-01],\n",
              "       [2.75277030e-02],\n",
              "       [5.57586784e-03],\n",
              "       [9.69435200e-02],\n",
              "       [3.63793820e-01],\n",
              "       [7.45635061e-03],\n",
              "       [6.47459552e-02],\n",
              "       [3.77564520e-01],\n",
              "       [9.89061773e-01],\n",
              "       [2.31638402e-02],\n",
              "       [9.25423324e-01],\n",
              "       [7.00809360e-01],\n",
              "       [7.51397386e-02],\n",
              "       [3.04620802e-01],\n",
              "       [1.20659254e-01],\n",
              "       [7.54443705e-01],\n",
              "       [4.17259991e-01],\n",
              "       [7.95052666e-03]], dtype=float32)"
            ]
          },
          "metadata": {
            "tags": []
          },
          "execution_count": 42
        }
      ]
    },
    {
      "cell_type": "code",
      "metadata": {
        "colab": {
          "base_uri": "https://localhost:8080/"
        },
        "id": "Tho96ojwDHTr",
        "outputId": "5cef1cef-81c2-44ec-db3b-8bde39a509d5"
      },
      "source": [
        "# convert model prediction probabilities to label format\n",
        "model_1_preds = tf.squeeze(tf.round(model_1_pred_prob))\n",
        "model_1_preds"
      ],
      "execution_count": null,
      "outputs": [
        {
          "output_type": "execute_result",
          "data": {
            "text/plain": [
              "<tf.Tensor: shape=(762,), dtype=float32, numpy=\n",
              "array([0., 1., 1., 0., 0., 1., 1., 1., 1., 0., 0., 1., 0., 0., 0., 0., 0.,\n",
              "       0., 0., 1., 1., 0., 0., 0., 1., 1., 0., 0., 0., 0., 1., 0., 0., 0.,\n",
              "       0., 0., 1., 0., 0., 1., 0., 0., 0., 0., 1., 1., 0., 1., 0., 1., 0.,\n",
              "       1., 0., 0., 0., 0., 0., 1., 0., 0., 0., 1., 1., 0., 1., 1., 1., 0.,\n",
              "       0., 0., 0., 0., 1., 0., 0., 0., 0., 1., 0., 1., 0., 0., 1., 0., 0.,\n",
              "       0., 0., 0., 1., 1., 1., 0., 1., 0., 1., 1., 1., 1., 1., 1., 1., 0.,\n",
              "       0., 1., 1., 0., 1., 1., 0., 0., 1., 0., 0., 0., 0., 0., 0., 1., 1.,\n",
              "       0., 1., 0., 0., 1., 0., 0., 1., 0., 0., 1., 0., 1., 1., 1., 1., 0.,\n",
              "       1., 0., 0., 0., 1., 0., 0., 1., 0., 1., 0., 0., 0., 1., 0., 0., 0.,\n",
              "       0., 0., 1., 1., 0., 1., 0., 1., 0., 0., 1., 0., 0., 1., 0., 1., 0.,\n",
              "       1., 1., 1., 0., 1., 0., 0., 0., 1., 1., 0., 1., 1., 1., 1., 0., 0.,\n",
              "       1., 0., 0., 0., 1., 0., 0., 0., 0., 0., 0., 1., 0., 0., 1., 1., 0.,\n",
              "       0., 1., 1., 1., 1., 1., 0., 1., 0., 0., 0., 0., 1., 1., 1., 0., 1.,\n",
              "       0., 0., 0., 1., 0., 1., 1., 1., 1., 0., 0., 1., 0., 1., 0., 1., 0.,\n",
              "       0., 0., 0., 0., 1., 1., 0., 0., 1., 0., 0., 0., 0., 1., 0., 0., 1.,\n",
              "       0., 1., 1., 0., 0., 0., 0., 0., 1., 1., 1., 1., 0., 0., 0., 0., 0.,\n",
              "       1., 0., 0., 1., 0., 0., 1., 0., 0., 0., 1., 1., 1., 1., 1., 0., 1.,\n",
              "       0., 1., 0., 0., 0., 0., 1., 0., 1., 0., 1., 0., 0., 0., 1., 0., 0.,\n",
              "       0., 0., 0., 0., 0., 1., 0., 0., 1., 0., 1., 0., 0., 0., 0., 0., 1.,\n",
              "       0., 1., 0., 0., 1., 0., 1., 0., 0., 1., 0., 0., 1., 0., 0., 1., 1.,\n",
              "       0., 0., 1., 1., 1., 0., 1., 0., 0., 0., 0., 1., 0., 0., 0., 0., 1.,\n",
              "       1., 1., 0., 0., 0., 0., 1., 0., 0., 0., 0., 1., 0., 0., 0., 0., 0.,\n",
              "       0., 0., 0., 0., 0., 1., 1., 0., 1., 0., 0., 1., 1., 0., 1., 0., 1.,\n",
              "       0., 0., 1., 0., 1., 0., 0., 0., 0., 1., 0., 1., 1., 0., 1., 0., 0.,\n",
              "       0., 1., 1., 0., 0., 0., 1., 1., 0., 0., 1., 0., 1., 1., 1., 1., 0.,\n",
              "       0., 0., 1., 1., 0., 0., 0., 0., 0., 0., 0., 0., 0., 1., 1., 0., 1.,\n",
              "       0., 0., 0., 1., 0., 0., 0., 0., 0., 1., 1., 1., 1., 1., 0., 0., 1.,\n",
              "       1., 1., 0., 0., 0., 1., 1., 0., 0., 1., 0., 0., 1., 0., 0., 1., 0.,\n",
              "       0., 1., 0., 0., 0., 0., 0., 1., 0., 0., 0., 0., 0., 0., 0., 1., 1.,\n",
              "       0., 0., 0., 0., 1., 0., 1., 1., 1., 1., 1., 0., 0., 0., 1., 0., 0.,\n",
              "       0., 0., 0., 0., 1., 0., 1., 1., 1., 1., 0., 0., 1., 0., 0., 0., 0.,\n",
              "       0., 1., 1., 1., 1., 0., 0., 1., 0., 0., 0., 1., 1., 0., 0., 1., 0.,\n",
              "       0., 0., 0., 1., 1., 0., 1., 1., 0., 1., 0., 0., 0., 0., 0., 0., 0.,\n",
              "       0., 1., 0., 1., 0., 1., 1., 0., 0., 1., 1., 1., 0., 0., 0., 0., 0.,\n",
              "       1., 0., 0., 0., 1., 0., 0., 1., 0., 0., 0., 0., 0., 0., 0., 0., 0.,\n",
              "       0., 0., 1., 1., 0., 0., 0., 1., 1., 1., 0., 1., 0., 1., 1., 0., 1.,\n",
              "       0., 1., 1., 0., 0., 0., 0., 1., 1., 0., 1., 0., 1., 0., 0., 0., 1.,\n",
              "       0., 0., 1., 1., 1., 1., 0., 0., 0., 0., 0., 1., 0., 1., 1., 0., 0.,\n",
              "       0., 0., 0., 1., 1., 0., 0., 0., 0., 0., 0., 1., 0., 0., 0., 0., 1.,\n",
              "       0., 1., 0., 0., 0., 1., 1., 0., 0., 0., 0., 1., 0., 1., 0., 0., 1.,\n",
              "       0., 0., 1., 0., 0., 1., 0., 0., 0., 0., 1., 1., 1., 0., 1., 0., 1.,\n",
              "       0., 1., 0., 0., 0., 1., 0., 0., 0., 0., 0., 0., 0., 0., 0., 1., 0.,\n",
              "       0., 0., 0., 0., 1., 0., 1., 0., 0., 1., 0., 0., 0., 0., 1., 0., 0.,\n",
              "       1., 1., 1., 1., 1., 0., 0., 0., 1., 1., 1., 0., 1., 1., 0., 0., 0.,\n",
              "       0., 0., 0., 0., 1., 0., 1., 1., 0., 0., 0., 1., 0., 0.],\n",
              "      dtype=float32)>"
            ]
          },
          "metadata": {
            "tags": []
          },
          "execution_count": 43
        }
      ]
    },
    {
      "cell_type": "code",
      "metadata": {
        "colab": {
          "base_uri": "https://localhost:8080/"
        },
        "id": "PKf0rXrAD1r8",
        "outputId": "f132d1bc-a3cc-4788-cc76-10cfaae46896"
      },
      "source": [
        "# calculate our model_1 results\n",
        "model_1_results = calculate_score(val_labels,model_1_preds)\n",
        "model_1_results"
      ],
      "execution_count": null,
      "outputs": [
        {
          "output_type": "execute_result",
          "data": {
            "text/plain": [
              "{'accuracy': 78.4776902887139,\n",
              " 'f1-score': 0.7818959205825942,\n",
              " 'precision': 0.789165199286798,\n",
              " 'recall': 0.7847769028871391}"
            ]
          },
          "metadata": {
            "tags": []
          },
          "execution_count": 44
        }
      ]
    },
    {
      "cell_type": "markdown",
      "metadata": {
        "id": "5AUmVO2Dw9pq"
      },
      "source": [
        "### VISUALIZING LEARNED EMBEDDINGS"
      ]
    },
    {
      "cell_type": "code",
      "metadata": {
        "colab": {
          "base_uri": "https://localhost:8080/"
        },
        "id": "0ihOj5wDxDdN",
        "outputId": "7077c244-48f8-4406-9abb-1414491b4cbf"
      },
      "source": [
        "# get vocabulary from our text vectorization layer\n",
        "words_in_vocab = text_vectorizer.get_vocabulary() # we have previously also instantiated it, but for better visualization we are doing it again here.\n",
        "len(words_in_vocab), words_in_vocab[:20] # twenty most frequent words"
      ],
      "execution_count": null,
      "outputs": [
        {
          "output_type": "execute_result",
          "data": {
            "text/plain": [
              "(10000,\n",
              " ['',\n",
              "  '[UNK]',\n",
              "  'the',\n",
              "  'a',\n",
              "  'in',\n",
              "  'to',\n",
              "  'of',\n",
              "  'and',\n",
              "  'i',\n",
              "  'is',\n",
              "  'for',\n",
              "  'on',\n",
              "  'you',\n",
              "  'my',\n",
              "  'with',\n",
              "  'it',\n",
              "  'that',\n",
              "  'at',\n",
              "  'by',\n",
              "  'this'])"
            ]
          },
          "metadata": {
            "tags": []
          },
          "execution_count": 45
        }
      ]
    },
    {
      "cell_type": "code",
      "metadata": {
        "colab": {
          "base_uri": "https://localhost:8080/"
        },
        "id": "HAf6JcqByLVS",
        "outputId": "a865c77f-e4e1-445d-b84f-ab8eee422aab"
      },
      "source": [
        "max_vocab_length"
      ],
      "execution_count": null,
      "outputs": [
        {
          "output_type": "execute_result",
          "data": {
            "text/plain": [
              "10000"
            ]
          },
          "metadata": {
            "tags": []
          },
          "execution_count": 46
        }
      ]
    },
    {
      "cell_type": "code",
      "metadata": {
        "colab": {
          "base_uri": "https://localhost:8080/"
        },
        "id": "dH48OgPSyeFF",
        "outputId": "b58283df-25ac-48e8-db5f-015af36c2175"
      },
      "source": [
        "# get the weight matrix of our embedding layer which has been learned over 5 epochs\n",
        "embed_weights = model_1.get_layer('embedding').get_weights()[0]\n",
        "embed_weights , embed_weights.shape # for every token in our vocab, it is represented by total of 128 vectors"
      ],
      "execution_count": null,
      "outputs": [
        {
          "output_type": "execute_result",
          "data": {
            "text/plain": [
              "(array([[ 0.04243163,  0.0016714 ,  0.01379535, ...,  0.03299421,\n",
              "          0.06340357, -0.05303558],\n",
              "        [-0.04468029,  0.02047528, -0.03755324, ...,  0.00159528,\n",
              "          0.04219921, -0.01509366],\n",
              "        [ 0.01335387,  0.02747238, -0.02408821, ...,  0.02386842,\n",
              "          0.05091142, -0.02941865],\n",
              "        ...,\n",
              "        [ 0.03385148, -0.02602719,  0.04982534, ...,  0.03260219,\n",
              "         -0.01196181, -0.0478712 ],\n",
              "        [ 0.0844968 , -0.00144431, -0.00862418, ...,  0.04598753,\n",
              "         -0.0069641 , -0.05331362],\n",
              "        [ 0.09086864,  0.09023058,  0.04642185, ...,  0.10861264,\n",
              "          0.07302871, -0.1115878 ]], dtype=float32), (10000, 128))"
            ]
          },
          "metadata": {
            "tags": []
          },
          "execution_count": 47
        }
      ]
    },
    {
      "cell_type": "markdown",
      "metadata": {
        "id": "dmcc18ln1HV2"
      },
      "source": [
        "now we will try to visualize embedding layer into a great tensorflow tool called projector.\n",
        "it is a embedding projector."
      ]
    },
    {
      "cell_type": "code",
      "metadata": {
        "id": "OHGhqoXa0-B0"
      },
      "source": [
        "import io\n",
        "out_v = io.open('vectors.tsv', 'w', encoding='utf-8')\n",
        "out_m = io.open('metadata.tsv', 'w', encoding='utf-8')\n",
        "\n",
        "for index, word in enumerate(words_in_vocab):\n",
        "  if index == 0:\n",
        "    continue  # skip 0, it's padding.\n",
        "  vec = embed_weights[index]\n",
        "  out_v.write('\\t'.join([str(x) for x in vec]) + \"\\n\")\n",
        "  out_m.write(word + \"\\n\")\n",
        "out_v.close()\n",
        "out_m.close()"
      ],
      "execution_count": null,
      "outputs": []
    },
    {
      "cell_type": "markdown",
      "metadata": {
        "id": "ljTm6J528edX"
      },
      "source": [
        "### MODEL 2: LSTM (LONG SHORT TERM MEMORY)"
      ]
    },
    {
      "cell_type": "code",
      "metadata": {
        "id": "tXTiio848khE"
      },
      "source": [
        "# creating model with LSTM layer\n",
        "from tensorflow.keras import layers\n",
        "input = layers.Input(shape=(1,), dtype='string')\n",
        "x = text_vectorizer(input)\n",
        "x = embedding(x)\n",
        "x = layers.LSTM(64, return_sequences=True)(x)\n",
        "x = layers.LSTM(64)(x)\n",
        "x = layers.Dense(64, activation='relu')(x)\n",
        "output = layers.Dense(1, activation='sigmoid')(x)\n",
        "model_2 = tf.keras.Model(input, output, name='model_2')"
      ],
      "execution_count": null,
      "outputs": []
    },
    {
      "cell_type": "code",
      "metadata": {
        "colab": {
          "base_uri": "https://localhost:8080/"
        },
        "id": "ez57GOzpAE50",
        "outputId": "4d415efa-8c7c-4326-eb5a-3c408f3bd43b"
      },
      "source": [
        "model_2.summary()"
      ],
      "execution_count": null,
      "outputs": [
        {
          "output_type": "stream",
          "text": [
            "Model: \"model_2\"\n",
            "_________________________________________________________________\n",
            "Layer (type)                 Output Shape              Param #   \n",
            "=================================================================\n",
            "input_2 (InputLayer)         [(None, 1)]               0         \n",
            "_________________________________________________________________\n",
            "text_vectorization_1 (TextVe (None, 15)                0         \n",
            "_________________________________________________________________\n",
            "embedding (Embedding)        (None, 15, 128)           1280000   \n",
            "_________________________________________________________________\n",
            "lstm (LSTM)                  (None, 15, 64)            49408     \n",
            "_________________________________________________________________\n",
            "lstm_1 (LSTM)                (None, 64)                33024     \n",
            "_________________________________________________________________\n",
            "dense_1 (Dense)              (None, 64)                4160      \n",
            "_________________________________________________________________\n",
            "dense_2 (Dense)              (None, 1)                 65        \n",
            "=================================================================\n",
            "Total params: 1,366,657\n",
            "Trainable params: 1,366,657\n",
            "Non-trainable params: 0\n",
            "_________________________________________________________________\n"
          ],
          "name": "stdout"
        }
      ]
    },
    {
      "cell_type": "code",
      "metadata": {
        "colab": {
          "base_uri": "https://localhost:8080/"
        },
        "id": "6OFFXLtyDEgR",
        "outputId": "c45be3b7-131f-4308-943e-aa45b207de29"
      },
      "source": [
        "train_labels.dtype, val_labels.dtype, train_sentences.dtype, val_sentences.dtype"
      ],
      "execution_count": null,
      "outputs": [
        {
          "output_type": "execute_result",
          "data": {
            "text/plain": [
              "(dtype('int64'), dtype('int64'), dtype('O'), dtype('O'))"
            ]
          },
          "metadata": {
            "tags": []
          },
          "execution_count": 51
        }
      ]
    },
    {
      "cell_type": "code",
      "metadata": {
        "id": "O4t4MWYlAdJf"
      },
      "source": [
        "# compile the model\n",
        "model_2.compile(loss='binary_crossentropy',\n",
        "                optimizer = tf.keras.optimizers.Adam(),\n",
        "                metrics=['accuracy'])"
      ],
      "execution_count": null,
      "outputs": []
    },
    {
      "cell_type": "code",
      "metadata": {
        "colab": {
          "base_uri": "https://localhost:8080/"
        },
        "id": "m1gdTsf3ApFP",
        "outputId": "89b1f0d3-55ad-4f6a-ded5-4576234ed367"
      },
      "source": [
        "# fitting our model_2 on our training data\n",
        "model_2_history = model_2.fit(train_sentences,\n",
        "                              train_labels,\n",
        "                              epochs=5,\n",
        "                              validation_data=(val_sentences, val_labels),\n",
        "                              callbacks=[create_tensorboard_callback(dir_name=save_dir, experiment_name='model_2_LSTM')])"
      ],
      "execution_count": null,
      "outputs": [
        {
          "output_type": "stream",
          "text": [
            "Saving TensorBoard log files to: model_logs/model_2_LSTM/20210806-153944\n",
            "Epoch 1/5\n",
            "215/215 [==============================] - 9s 26ms/step - loss: 0.2177 - accuracy: 0.9254 - val_loss: 0.5946 - val_accuracy: 0.7835\n",
            "Epoch 2/5\n",
            "215/215 [==============================] - 4s 18ms/step - loss: 0.1588 - accuracy: 0.9403 - val_loss: 0.7020 - val_accuracy: 0.7795\n",
            "Epoch 3/5\n",
            "215/215 [==============================] - 4s 18ms/step - loss: 0.1374 - accuracy: 0.9467 - val_loss: 0.7487 - val_accuracy: 0.7782\n",
            "Epoch 4/5\n",
            "215/215 [==============================] - 4s 18ms/step - loss: 0.1106 - accuracy: 0.9556 - val_loss: 0.9080 - val_accuracy: 0.7756\n",
            "Epoch 5/5\n",
            "215/215 [==============================] - 4s 18ms/step - loss: 0.0877 - accuracy: 0.9676 - val_loss: 0.9850 - val_accuracy: 0.7756\n"
          ],
          "name": "stdout"
        }
      ]
    },
    {
      "cell_type": "code",
      "metadata": {
        "id": "wkNWFuxgIMor"
      },
      "source": [
        ""
      ],
      "execution_count": null,
      "outputs": []
    }
  ]
}